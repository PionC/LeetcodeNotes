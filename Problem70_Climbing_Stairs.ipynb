{
 "cells": [
  {
   "cell_type": "markdown",
   "id": "e19233e7",
   "metadata": {},
   "source": [
    "# [70. Climbing Stairs](https://leetcode.cn/problems/climbing-stairs/description/?envType=study-plan-v2&envId=top-100-liked)\n",
    "- Dynamic Programming"
   ]
  },
  {
   "cell_type": "markdown",
   "id": "580ed5e7-141b-4497-b3ad-11df5662993b",
   "metadata": {},
   "source": [
    "- Figure out what is the meaning of `dp[i]`.\n",
    "- Figure out what is the relationship between `dp[i+1]` and `dp[i]`.\n",
    "- Figure out what is `dp[0]` or other known initial values\n",
    "- Implement the `Status Transfer`\n",
    "- Calculate the result `dp[n]`"
   ]
  },
  {
   "cell_type": "raw",
   "id": "91a9128c-8cc1-4445-88bf-ce8c59e2bdeb",
   "metadata": {},
   "source": [
    "1. In this problem, dp[i] means the number of ways to climb to the i-th stair\n",
    "2. Because the maximum steps are 2, so dp[i+1] = dp[i] + dp[i-1]\n",
    "3. dp[0] = 1, dp[1] = 1, dp[2] = 2"
   ]
  },
  {
   "cell_type": "code",
   "execution_count": 51,
   "id": "8515014b",
   "metadata": {},
   "outputs": [],
   "source": [
    "class Solution:\n",
    "    def function(self, n):\n",
    "        dp = [0] * (n+1)\n",
    "        dp[0], dp[1] = 1, 1\n",
    "        for i in range(2, n+1):\n",
    "            # dp[i+1] = dp[i] + dp[i-1]\n",
    "            dp[i] = dp[i-1]+ dp[i-2]\n",
    "        print(dp)\n",
    "        return dp[n]\n",
    "\n",
    "    def function2(self, n): # This method decreases the Space Complexity from O(n) to O(1)\n",
    "        dp, dp0, dp1 = 0, 1, 1\n",
    "        for _ in range(2, n+1):\n",
    "            dp = dp0 + dp1\n",
    "            dp0 = dp1\n",
    "            dp1 = dp\n",
    "        return dp1"
   ]
  },
  {
   "cell_type": "code",
   "execution_count": 53,
   "id": "b655ca91",
   "metadata": {},
   "outputs": [],
   "source": [
    "solution = Solution()"
   ]
  },
  {
   "cell_type": "code",
   "execution_count": 55,
   "id": "6d121276",
   "metadata": {},
   "outputs": [
    {
     "name": "stdout",
     "output_type": "stream",
     "text": [
      "2\n"
     ]
    }
   ],
   "source": [
    "n1 = 2\n",
    "# Output: 2\n",
    "output1 = solution.function2(n1)\n",
    "print(output1)"
   ]
  },
  {
   "cell_type": "code",
   "execution_count": 57,
   "id": "ed6bc903",
   "metadata": {},
   "outputs": [
    {
     "name": "stdout",
     "output_type": "stream",
     "text": [
      "3\n"
     ]
    }
   ],
   "source": [
    "n2 = 3\n",
    "# Output: 3\n",
    "output2 = solution.function2(n2)\n",
    "print(output2)"
   ]
  },
  {
   "cell_type": "code",
   "execution_count": null,
   "id": "ff523e6d-2a33-4656-8510-9da2fdc7a95e",
   "metadata": {},
   "outputs": [],
   "source": []
  }
 ],
 "metadata": {
  "kernelspec": {
   "display_name": "Python 3 (ipykernel)",
   "language": "python",
   "name": "python3"
  },
  "language_info": {
   "codemirror_mode": {
    "name": "ipython",
    "version": 3
   },
   "file_extension": ".py",
   "mimetype": "text/x-python",
   "name": "python",
   "nbconvert_exporter": "python",
   "pygments_lexer": "ipython3",
   "version": "3.11.7"
  }
 },
 "nbformat": 4,
 "nbformat_minor": 5
}
