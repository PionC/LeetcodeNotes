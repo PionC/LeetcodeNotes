{
 "cells": [
  {
   "cell_type": "markdown",
   "id": "e19233e7",
   "metadata": {},
   "source": [
    "# [28. Container With Most Water](https://leetcode.cn/problems/container-with-most-water/description/?envType=study-plan-v2&envId=top-100-liked)"
   ]
  },
  {
   "cell_type": "code",
   "execution_count": 10,
   "id": "8515014b",
   "metadata": {},
   "outputs": [],
   "source": [
    "class Solution:\n",
    "    def maxArea(self, height):\n",
    "        l, r = 0, len(height)-1\n",
    "        max_area = 0\n",
    "        while l < len(height) and r > 0:\n",
    "            if r <= l:\n",
    "                break\n",
    "            if height[l] >= height[r]:\n",
    "                max_area = max(min(height[l], height[r])*(r-l), max_area)\n",
    "                r -= 1 # Keep the left pointer, move the right pointer\n",
    "            else: # height[l] < height[r]\n",
    "                max_area = max(min(height[l], height[r])*(r-l), max_area)\n",
    "                l += 1\n",
    "        return max_area\n",
    "    \n",
    "    def maxArea_optimized(self, height): # This is slightly faster than the above one\n",
    "        if len(height) == 2:\n",
    "            return min(height[0], height[1])\n",
    "        l, r = 0, len(height)-1\n",
    "        max_area = 0\n",
    "        while l < r:\n",
    "            if r <= l:\n",
    "                break\n",
    "            if height[l] >= height[r]:\n",
    "                max_area = max(height[r]*(r-l), max_area)\n",
    "                r -= 1 # Keep the left pointer, move the right pointer\n",
    "            else: # height[l] < height[r]\n",
    "                max_area = max(height[l]*(r-l), max_area)\n",
    "                l += 1 # Keep the right pointer, move the left pointer\n",
    "        return max_area\n",
    "            "
   ]
  },
  {
   "cell_type": "code",
   "execution_count": 7,
   "id": "b655ca91",
   "metadata": {},
   "outputs": [],
   "source": [
    "solution = Solution()"
   ]
  },
  {
   "cell_type": "code",
   "execution_count": 8,
   "id": "6d121276",
   "metadata": {},
   "outputs": [
    {
     "name": "stdout",
     "output_type": "stream",
     "text": [
      "49\n"
     ]
    }
   ],
   "source": [
    "height = [1,8,6,2,5,4,8,3,7]\n",
    "# Output: 49\n",
    "output1 = solution.maxArea(height)\n",
    "print(output1)"
   ]
  },
  {
   "cell_type": "code",
   "execution_count": 9,
   "id": "ed6bc903",
   "metadata": {},
   "outputs": [
    {
     "name": "stdout",
     "output_type": "stream",
     "text": [
      "1\n"
     ]
    }
   ],
   "source": [
    "height = [1,1]\n",
    "# Output: 1\n",
    "output2 = solution.maxArea(height)\n",
    "print(output2)"
   ]
  }
 ],
 "metadata": {
  "kernelspec": {
   "display_name": "Python 3 (ipykernel)",
   "language": "python",
   "name": "python3"
  },
  "language_info": {
   "codemirror_mode": {
    "name": "ipython",
    "version": 3
   },
   "file_extension": ".py",
   "mimetype": "text/x-python",
   "name": "python",
   "nbconvert_exporter": "python",
   "pygments_lexer": "ipython3",
   "version": "3.9.7"
  }
 },
 "nbformat": 4,
 "nbformat_minor": 5
}
