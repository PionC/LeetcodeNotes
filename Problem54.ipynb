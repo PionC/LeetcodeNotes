{
 "cells": [
  {
   "cell_type": "code",
   "execution_count": 1,
   "id": "5d3ceabb",
   "metadata": {},
   "outputs": [],
   "source": [
    "for r in range (1,1):\n",
    "    print(r)"
   ]
  },
  {
   "cell_type": "code",
   "execution_count": 2,
   "id": "6bb2d8df",
   "metadata": {},
   "outputs": [],
   "source": [
    "class Solution:\n",
    "    def spiralOrder(self, matrix):\n",
    "        row = len(matrix)\n",
    "        count = 0\n",
    "        total = 0\n",
    "        output = []\n",
    "        \n",
    "#         for r in range (0, row):\n",
    "#             for c in range (0, len(matrix[r])):\n",
    "#                 total += 1\n",
    "        total = row * len(matrix[0])\n",
    "        print(total)\n",
    "        b_l, b_r, b_u, b_d = 0, len(matrix[0])-1, 0, len(matrix)-1 # Boundaries\n",
    "        while count <= total:\n",
    "            # Toward right\n",
    "            print(\"Toward Right\")\n",
    "            for c in range (b_l, b_r+1):\n",
    "                output.append(matrix[b_u][c])\n",
    "                count += 1\n",
    "                print(count, b_u, c, output)\n",
    "            b_u += 1\n",
    "#             b_r -= 1\n",
    "            print(\"Details\", b_l, b_r, b_u, b_d)\n",
    "            if(self.is_completed(count, total)):\n",
    "                break\n",
    "                \n",
    "            # Toward down\n",
    "            print(\"Toward Down\")\n",
    "            for r in range (b_u, b_d+1):\n",
    "                output.append(matrix[r][b_r])\n",
    "                count += 1\n",
    "                print(count, output)\n",
    "            b_r -= 1\n",
    "#             b_d -= 1\n",
    "            print(\"Details\", b_l, b_r, b_u, b_d)\n",
    "            if(self.is_completed(count, total)):\n",
    "                break\n",
    "            \n",
    "            # Toward left\n",
    "            print(\"Toward Left\")\n",
    "            for c in range (b_r, b_l-1, -1):\n",
    "                output.append(matrix[b_d][c])\n",
    "                count += 1\n",
    "                print(count, output)\n",
    "            b_d -= 1\n",
    "#             b_l += 1\n",
    "            print(\"Details\", b_l, b_r, b_u, b_d)\n",
    "            if(self.is_completed(count, total)):\n",
    "                break\n",
    "            \n",
    "            # Toward up\n",
    "            print(\"Toward Up\")\n",
    "            print(\"Details\", b_l, b_r, b_u, b_d)\n",
    "            for r in range (b_d, b_u-1, -1):\n",
    "                output.append(matrix[r][b_l])\n",
    "                count += 1\n",
    "                print(count, output)\n",
    "            b_l += 1\n",
    "#             b_u += 1\n",
    "            print(\"Details\", b_l, b_r, b_u, b_d)\n",
    "            if(self.is_completed(count, total)):\n",
    "                break\n",
    "            \n",
    "    \n",
    "        return output\n",
    "    \n",
    "    def is_completed(self, count, total) -> bool:\n",
    "        if count == total:\n",
    "            return True\n",
    "        else:\n",
    "            return False"
   ]
  },
  {
   "cell_type": "code",
   "execution_count": 3,
   "id": "3d332ada",
   "metadata": {},
   "outputs": [
    {
     "name": "stdout",
     "output_type": "stream",
     "text": [
      "12\n",
      "Toward Right\n",
      "1 0 0 [1]\n",
      "2 0 1 [1, 2]\n",
      "3 0 2 [1, 2, 3]\n",
      "4 0 3 [1, 2, 3, 4]\n",
      "Details 0 3 1 2\n",
      "Toward Down\n",
      "5 [1, 2, 3, 4, 8]\n",
      "6 [1, 2, 3, 4, 8, 12]\n",
      "Details 0 2 1 2\n",
      "Toward Left\n",
      "7 [1, 2, 3, 4, 8, 12, 11]\n",
      "8 [1, 2, 3, 4, 8, 12, 11, 10]\n",
      "9 [1, 2, 3, 4, 8, 12, 11, 10, 9]\n",
      "Details 0 2 1 1\n",
      "Toward Up\n",
      "Details 0 2 1 1\n",
      "10 [1, 2, 3, 4, 8, 12, 11, 10, 9, 5]\n",
      "Details 1 2 1 1\n",
      "Toward Right\n",
      "11 1 1 [1, 2, 3, 4, 8, 12, 11, 10, 9, 5, 6]\n",
      "12 1 2 [1, 2, 3, 4, 8, 12, 11, 10, 9, 5, 6, 7]\n",
      "Details 1 2 2 1\n"
     ]
    }
   ],
   "source": [
    "mat = [[1,2,3,4],[5,6,7,8],[9,10,11,12]]\n",
    "solution = Solution()\n",
    "output = solution.spiralOrder(mat)"
   ]
  }
 ],
 "metadata": {
  "kernelspec": {
   "display_name": "Python 3 (ipykernel)",
   "language": "python",
   "name": "python3"
  },
  "language_info": {
   "codemirror_mode": {
    "name": "ipython",
    "version": 3
   },
   "file_extension": ".py",
   "mimetype": "text/x-python",
   "name": "python",
   "nbconvert_exporter": "python",
   "pygments_lexer": "ipython3",
   "version": "3.9.7"
  }
 },
 "nbformat": 4,
 "nbformat_minor": 5
}
