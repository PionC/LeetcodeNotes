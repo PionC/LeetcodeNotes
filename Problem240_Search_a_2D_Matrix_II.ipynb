{
 "cells": [
  {
   "cell_type": "markdown",
   "id": "e19233e7",
   "metadata": {},
   "source": [
    "# [240. Search a 2D Matrix II](https://leetcode.cn/problems/search-a-2d-matrix-ii/description/?envType=study-plan-v2&envId=top-100-liked)"
   ]
  },
  {
   "cell_type": "code",
   "execution_count": 1,
   "id": "8515014b",
   "metadata": {},
   "outputs": [],
   "source": [
    "class Solution:\n",
    "    def function(self, matrix, target): # Greedy Algorithm\n",
    "        row, col = 0, len(matrix[0])-1\n",
    "        while row <= len(matrix)-1 and col >= 0:\n",
    "            print(row, col)\n",
    "            if matrix[row][col] == target:\n",
    "                return True\n",
    "            if matrix[row][col] > target:\n",
    "                col -= 1\n",
    "                continue\n",
    "            if matrix[row][col] < target:\n",
    "                row += 1\n",
    "                continue\n",
    "        return False"
   ]
  },
  {
   "cell_type": "code",
   "execution_count": 2,
   "id": "b655ca91",
   "metadata": {},
   "outputs": [],
   "source": [
    "solution = Solution()"
   ]
  },
  {
   "cell_type": "code",
   "execution_count": 3,
   "id": "6d121276",
   "metadata": {},
   "outputs": [
    {
     "name": "stdout",
     "output_type": "stream",
     "text": [
      "0 4\n",
      "0 3\n",
      "0 2\n",
      "0 1\n",
      "1 1\n",
      "True\n"
     ]
    }
   ],
   "source": [
    "matrix1 = [[1,4,7,11,15],[2,5,8,12,19],[3,6,9,16,22],[10,13,14,17,24],[18,21,23,26,30]]\n",
    "target1 = 5\n",
    "# Output: true\n",
    "output1 = solution.function(matrix1, target1)\n",
    "print(output1)"
   ]
  },
  {
   "cell_type": "code",
   "execution_count": 4,
   "id": "ed6bc903",
   "metadata": {},
   "outputs": [
    {
     "name": "stdout",
     "output_type": "stream",
     "text": [
      "0 4\n",
      "1 4\n",
      "2 4\n",
      "2 3\n",
      "3 3\n",
      "4 3\n",
      "4 2\n",
      "4 1\n",
      "4 0\n",
      "False\n"
     ]
    }
   ],
   "source": [
    "matrix2 = [[1,4,7,11,15],[2,5,8,12,19],[3,6,9,16,22],[10,13,14,17,24],[18,21,23,26,30]]\n",
    "target2 = 20\n",
    "# Output: false\n",
    "output2 = solution.function(matrix2, target2)\n",
    "print(output2)"
   ]
  },
  {
   "cell_type": "code",
   "execution_count": 5,
   "id": "e76cb49d",
   "metadata": {},
   "outputs": [
    {
     "name": "stdout",
     "output_type": "stream",
     "text": [
      "0 4\n",
      "1 4\n",
      "2 4\n",
      "3 4\n",
      "True\n"
     ]
    }
   ],
   "source": [
    "matrix3 = [[1,4,7,11,15],[2,5,8,12,19],[3,6,9,16,22],[10,13,14,17,24]]\n",
    "target3 = 24\n",
    "# Output: true\n",
    "output3 = solution.function(matrix3, target3)\n",
    "print(output3)"
   ]
  },
  {
   "cell_type": "code",
   "execution_count": 6,
   "id": "e9b73593",
   "metadata": {},
   "outputs": [
    {
     "name": "stdout",
     "output_type": "stream",
     "text": [
      "0 4\n",
      "1 4\n",
      "2 4\n",
      "True\n"
     ]
    }
   ],
   "source": [
    "matrix4 = [[1,2,3,4,5],[6,7,8,9,10],[11,12,13,14,15],[16,17,18,19,20],[21,22,23,24,25]]\n",
    "target4 = 15\n",
    "# Output: true\n",
    "output4 = solution.function(matrix4, target4)\n",
    "print(output4)"
   ]
  },
  {
   "cell_type": "code",
   "execution_count": 7,
   "id": "485529c1",
   "metadata": {},
   "outputs": [],
   "source": [
    "# [[1,  2, 3, 4, 5],\n",
    "#  [6,  7, 8, 9,10],\n",
    "#  [11,12,13,14,15],\n",
    "#  [16,17,18,19,20],\n",
    "#  [21,22,23,24,25]]"
   ]
  }
 ],
 "metadata": {
  "kernelspec": {
   "display_name": "Python 3 (ipykernel)",
   "language": "python",
   "name": "python3"
  },
  "language_info": {
   "codemirror_mode": {
    "name": "ipython",
    "version": 3
   },
   "file_extension": ".py",
   "mimetype": "text/x-python",
   "name": "python",
   "nbconvert_exporter": "python",
   "pygments_lexer": "ipython3",
   "version": "3.9.7"
  }
 },
 "nbformat": 4,
 "nbformat_minor": 5
}
