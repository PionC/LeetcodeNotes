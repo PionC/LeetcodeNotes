{
 "cells": [
  {
   "cell_type": "markdown",
   "id": "e19233e7",
   "metadata": {},
   "source": [
    "# [438. Find All Anagrams in a String](https://leetcode.cn/problems/find-all-anagrams-in-a-string/description/?envType=study-plan-v2&envId=top-100-liked)"
   ]
  },
  {
   "cell_type": "code",
   "execution_count": 1,
   "id": "8515014b",
   "metadata": {},
   "outputs": [],
   "source": [
    "class Solution:\n",
    "    def function(self, s, p): # This should be work but overtime!!!!\n",
    "        win_l, win_r = 0, len(p)-1\n",
    "        result = []\n",
    "        tmp = list(p)\n",
    "\n",
    "        while win_r < len(s):\n",
    "            for i in range (0, len(p)): # this part can be simplified to improve the efficiency\n",
    "                if s[win_l+i] in tmp:\n",
    "                    tmp.pop(tmp.index(s[win_l+i]))\n",
    "            if len(tmp) == 0:\n",
    "                result.append(win_l)\n",
    "            print(s[win_l: win_r+1], result, tmp)\n",
    "            win_l += 1\n",
    "            win_r += 1\n",
    "            tmp = list(p)    \n",
    "        \n",
    "        return result\n",
    "    \n",
    "    def function2(self, s, p): # Slide Window start from the most left side\n",
    "        if len(p) > len(s) or len(p) == 0 or len(s) == 0:\n",
    "            return []\n",
    "        win_l, win_r = 0, 0\n",
    "        result = []\n",
    "#         tmp = list(p)\n",
    "        \n",
    "        p_dict = {}\n",
    "        p_dict2 = {}\n",
    "        for c in p:\n",
    "            if c in p_dict:\n",
    "                p_dict.update({c: p_dict[c]+1})\n",
    "                p_dict2.update({c: 0})\n",
    "            else:\n",
    "                p_dict.update({c: 1})\n",
    "                p_dict2.update({c: 0})\n",
    "#         print(p_dict)\n",
    "        \n",
    "        while win_r < len(s):\n",
    "#             if s[win_r] in tmp:\n",
    "            print(s[win_l:win_r+1])\n",
    "            if s[win_r] in p_dict:\n",
    "#                 tmp.pop(tmp.index(s[win_r]))\n",
    "                p_dict.update({s[win_r]: p_dict[s[win_r]]-1})\n",
    "            print(p_dict, len(p))\n",
    "#             if list(p_dict.values()) == [0]*len(p):\n",
    "            if p_dict == p_dict2:\n",
    "#                 if len(tmp) == 0:\n",
    "#                 print(\"here!!!!\")\n",
    "                result.append(win_l)\n",
    "                print(\"[RESULT]\", s[win_l:win_r+1], result, p_dict)\n",
    "                win_l += 1\n",
    "                win_r += 1\n",
    "                if s[win_l-1] in p_dict:\n",
    "                    p_dict.update({s[win_l-1]:p_dict[s[win_l-1]]+1})\n",
    "                print(p_dict)\n",
    "                continue\n",
    "#                 tmp.append(s[win_l-1]) # Here \"e\" will be appended into the list, we should append the missing one in the tmp\n",
    "            win_r += 1\n",
    "            if win_r-win_l+1 > len(p):\n",
    "                if s[win_l] in p_dict:\n",
    "                    p_dict.update({s[win_l]: p_dict[s[win_l]]+1})\n",
    "                win_l += 1\n",
    "        \n",
    "        return result\n",
    "        "
   ]
  },
  {
   "cell_type": "code",
   "execution_count": 2,
   "id": "b655ca91",
   "metadata": {},
   "outputs": [],
   "source": [
    "solution = Solution()"
   ]
  },
  {
   "cell_type": "code",
   "execution_count": 3,
   "id": "6d121276",
   "metadata": {},
   "outputs": [
    {
     "name": "stdout",
     "output_type": "stream",
     "text": [
      "c\n",
      "{'a': 1, 'b': 1, 'c': 0} 3\n",
      "cb\n",
      "{'a': 1, 'b': 0, 'c': 0} 3\n",
      "cba\n",
      "{'a': 0, 'b': 0, 'c': 0} 3\n",
      "[RESULT] cba [0] {'a': 0, 'b': 0, 'c': 0}\n",
      "{'a': 0, 'b': 0, 'c': 1}\n",
      "bae\n",
      "{'a': 0, 'b': 0, 'c': 1} 3\n",
      "aeb\n",
      "{'a': 0, 'b': 0, 'c': 1} 3\n",
      "eba\n",
      "{'a': 0, 'b': 0, 'c': 1} 3\n",
      "bab\n",
      "{'a': 0, 'b': -1, 'c': 1} 3\n",
      "aba\n",
      "{'a': -1, 'b': 0, 'c': 1} 3\n",
      "bac\n",
      "{'a': 0, 'b': 0, 'c': 0} 3\n",
      "[RESULT] bac [0, 6] {'a': 0, 'b': 0, 'c': 0}\n",
      "{'a': 0, 'b': 1, 'c': 0}\n",
      "acd\n",
      "{'a': 0, 'b': 1, 'c': 0} 3\n",
      "[0, 6]\n"
     ]
    }
   ],
   "source": [
    "s1 = \"cbaebabacd\"\n",
    "p1 = \"abc\"\n",
    "# Output: [0,6]\n",
    "output1 = solution.function2(s1, p1)\n",
    "print(output1)"
   ]
  },
  {
   "cell_type": "code",
   "execution_count": 4,
   "id": "ed6bc903",
   "metadata": {},
   "outputs": [
    {
     "name": "stdout",
     "output_type": "stream",
     "text": [
      "a\n",
      "{'a': 0, 'b': 1} 2\n",
      "ab\n",
      "{'a': 0, 'b': 0} 2\n",
      "[RESULT] ab [0] {'a': 0, 'b': 0}\n",
      "{'a': 1, 'b': 0}\n",
      "ba\n",
      "{'a': 0, 'b': 0} 2\n",
      "[RESULT] ba [0, 1] {'a': 0, 'b': 0}\n",
      "{'a': 0, 'b': 1}\n",
      "ab\n",
      "{'a': 0, 'b': 0} 2\n",
      "[RESULT] ab [0, 1, 2] {'a': 0, 'b': 0}\n",
      "{'a': 1, 'b': 0}\n",
      "[0, 1, 2]\n"
     ]
    }
   ],
   "source": [
    "s2 = \"abab\"\n",
    "p2 = \"ab\"\n",
    "# Output: [0,1,2]\n",
    "output2 = solution.function2(s2, p2)\n",
    "print(output2)"
   ]
  },
  {
   "cell_type": "code",
   "execution_count": 5,
   "id": "1122178a",
   "metadata": {},
   "outputs": [
    {
     "name": "stdout",
     "output_type": "stream",
     "text": [
      "b\n",
      "{'a': 2} 2\n",
      "ba\n",
      "{'a': 1} 2\n",
      "aa\n",
      "{'a': 0} 2\n",
      "[RESULT] aa [1] {'a': 0}\n",
      "{'a': 1}\n",
      "[1]\n"
     ]
    }
   ],
   "source": [
    "s3 = \"baa\"\n",
    "p3 = \"aa\"\n",
    "# Output: [1]\n",
    "output3 = solution.function2(s3, p3)\n",
    "print(output3)"
   ]
  },
  {
   "cell_type": "code",
   "execution_count": null,
   "id": "47e8c324",
   "metadata": {},
   "outputs": [],
   "source": []
  }
 ],
 "metadata": {
  "kernelspec": {
   "display_name": "Python 3 (ipykernel)",
   "language": "python",
   "name": "python3"
  },
  "language_info": {
   "codemirror_mode": {
    "name": "ipython",
    "version": 3
   },
   "file_extension": ".py",
   "mimetype": "text/x-python",
   "name": "python",
   "nbconvert_exporter": "python",
   "pygments_lexer": "ipython3",
   "version": "3.9.7"
  }
 },
 "nbformat": 4,
 "nbformat_minor": 5
}
