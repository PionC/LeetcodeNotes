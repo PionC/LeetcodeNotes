{
 "cells": [
  {
   "cell_type": "markdown",
   "id": "e19233e7",
   "metadata": {},
   "source": [
    "# [198. House Robber](https://leetcode.cn/problems/house-robber/description/?envType=study-plan-v2&envId=top-100-liked)"
   ]
  },
  {
   "cell_type": "code",
   "execution_count": 9,
   "id": "8515014b",
   "metadata": {},
   "outputs": [],
   "source": [
    "class Solution:\n",
    "    def function(self, nums):\n",
    "        # 1. dp[i] means?\n",
    "        # Answer: dp[i] means the amount of money you have gotten\n",
    "        # 2. dp[i] = ?\n",
    "        # Answer: dp[i] = max(dp[i-2] + nums[i], dp[i-1])\n",
    "        # 3. dp[0] = ?, dp[1] = ?, and so on?\n",
    "        # Answer: dp[0] = nums[0], dp[1] = max(nums[0], nums[1])\n",
    "        # 4. Implement\n",
    "        # 5. Calculate\n",
    "        if len(nums) == 0:\n",
    "            return 0\n",
    "        if len(nums) == 1:\n",
    "            return nums[0]\n",
    "        \n",
    "        dp = [0] * len(nums)\n",
    "        dp[0] = nums[0]\n",
    "        dp[1] = max(nums[0], nums[1])\n",
    "        for i in range(2, len(nums)):\n",
    "            dp[i] = max(dp[i-2] + nums[i], dp[i-1])\n",
    "        # print(dp)\n",
    "        return dp[len(nums)-1]"
   ]
  },
  {
   "cell_type": "code",
   "execution_count": 11,
   "id": "b655ca91",
   "metadata": {},
   "outputs": [],
   "source": [
    "solution = Solution()"
   ]
  },
  {
   "cell_type": "code",
   "execution_count": 13,
   "id": "6d121276",
   "metadata": {},
   "outputs": [
    {
     "name": "stdout",
     "output_type": "stream",
     "text": [
      "4\n"
     ]
    }
   ],
   "source": [
    "nums1 = [1,2,3,1]\n",
    "# Output: 4\n",
    "output1 = solution.function(nums1)\n",
    "print(output1)"
   ]
  },
  {
   "cell_type": "code",
   "execution_count": 15,
   "id": "ed6bc903",
   "metadata": {},
   "outputs": [
    {
     "name": "stdout",
     "output_type": "stream",
     "text": [
      "12\n"
     ]
    }
   ],
   "source": [
    "nums2 = [2,7,9,3,1]\n",
    "# Output: 12\n",
    "output2 = solution.function(nums2)\n",
    "print(output2)"
   ]
  },
  {
   "cell_type": "code",
   "execution_count": null,
   "id": "fc5ea7f2-9f17-4873-818e-cfd1b09da5d8",
   "metadata": {},
   "outputs": [],
   "source": []
  }
 ],
 "metadata": {
  "kernelspec": {
   "display_name": "Python 3 (ipykernel)",
   "language": "python",
   "name": "python3"
  },
  "language_info": {
   "codemirror_mode": {
    "name": "ipython",
    "version": 3
   },
   "file_extension": ".py",
   "mimetype": "text/x-python",
   "name": "python",
   "nbconvert_exporter": "python",
   "pygments_lexer": "ipython3",
   "version": "3.11.7"
  }
 },
 "nbformat": 4,
 "nbformat_minor": 5
}
