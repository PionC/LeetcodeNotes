{
 "cells": [
  {
   "cell_type": "markdown",
   "id": "e19233e7",
   "metadata": {},
   "source": [
    "# [322. Coin Change](https://leetcode.cn/problems/coin-change/description/?envType=study-plan-v2&envId=top-100-liked)"
   ]
  },
  {
   "cell_type": "code",
   "execution_count": null,
   "id": "8515014b",
   "metadata": {},
   "outputs": [],
   "source": [
    "class Solution:\n",
    "    def function(self, s, t):\n",
    "        pass"
   ]
  },
  {
   "cell_type": "code",
   "execution_count": null,
   "id": "b655ca91",
   "metadata": {},
   "outputs": [],
   "source": [
    "solution = Solution()"
   ]
  },
  {
   "cell_type": "code",
   "execution_count": null,
   "id": "6d121276",
   "metadata": {},
   "outputs": [],
   "source": [
    "s1 = \"ab#c\"\n",
    "t1 = \"ad#c\"\n",
    "# Output: true\n",
    "output1 = solution.function(s1, t1)\n",
    "print(output1)"
   ]
  },
  {
   "cell_type": "code",
   "execution_count": null,
   "id": "ed6bc903",
   "metadata": {},
   "outputs": [],
   "source": [
    "s2 = \"ab##\"\n",
    "t2 = \"c#d#\"\n",
    "# Output: true\n",
    "output2 = solution.function(s2, t2)\n",
    "print(output2)"
   ]
  },
  {
   "cell_type": "code",
   "execution_count": null,
   "id": "ef5e74ac",
   "metadata": {},
   "outputs": [],
   "source": [
    "s3 = \"a#c\"\n",
    "t3 = \"b\"\n",
    "# Output: false\n",
    "output3 = solution.function(s3, t3)\n",
    "print(output3)"
   ]
  }
 ],
 "metadata": {
  "kernelspec": {
   "display_name": "Python 3 (ipykernel)",
   "language": "python",
   "name": "python3"
  },
  "language_info": {
   "codemirror_mode": {
    "name": "ipython",
    "version": 3
   },
   "file_extension": ".py",
   "mimetype": "text/x-python",
   "name": "python",
   "nbconvert_exporter": "python",
   "pygments_lexer": "ipython3",
   "version": "3.11.7"
  }
 },
 "nbformat": 4,
 "nbformat_minor": 5
}
