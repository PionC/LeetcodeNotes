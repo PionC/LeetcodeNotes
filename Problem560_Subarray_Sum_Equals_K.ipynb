{
 "cells": [
  {
   "cell_type": "markdown",
   "id": "e19233e7",
   "metadata": {},
   "source": [
    "# [560. Subarray Sum Equals K](https://leetcode.cn/problems/find-all-anagrams-in-a-string/description/?envType=study-plan-v2&envId=top-100-liked)"
   ]
  },
  {
   "cell_type": "markdown",
   "id": "7d775c0a",
   "metadata": {},
   "source": [
    "- presum means the sum of pre elements of the current element.  \n",
    "- For example: `[0, 1, 2, 3]`  \n",
    "- then, the presum will be `[0, 0, 0+1, 0+1+2, 0+1+2+3]`, which is `[0, 0, 1, 3, 6]`  \n",
    "- Let us say we are going to find the target `k = 3`\n",
    "    - when `i = 2`, `presum - k = 3 - 3 = 0`, now the `presum_dict` should be `{0: 2, 1: 1, 3: 1}`,  \n",
    "    - so, `count = count + presum_dict[presum - k]` which means `count = count + presum_dict[0] = count + 2 = 2`.  \n",
    "- Then, when `i = 3`, `presum - k = 6 - 3 = 3`, now the `presum_dict` should be `{0: 2, 1: 1, 3: 1, 6: 1}`,  \n",
    "    - so, `count = count + presum_dict[3] = 2 + 1 = 3`.  \n",
    "- Hence, `count` should be `3` eventually."
   ]
  },
  {
   "cell_type": "code",
   "execution_count": 1,
   "id": "8515014b",
   "metadata": {},
   "outputs": [],
   "source": [
    "class Solution: #\n",
    "    def function(self, nums, k):\n",
    "        result = 0\n",
    "        presum_dict = {}\n",
    "        presum = 0\n",
    "        presum_dict.update({presum: 1}) \n",
    "        for i in range(0, len(nums)):\n",
    "            presum += nums[i]\n",
    "            if presum - k in presum_dict:\n",
    "                result += presum_dict[presum-k]\n",
    "            if presum in presum_dict:\n",
    "                presum_dict.update({presum: presum_dict[presum]+1})\n",
    "            else:\n",
    "                presum_dict.update({presum: 1})\n",
    "            \n",
    "        return result\n",
    "        \n",
    "                "
   ]
  },
  {
   "cell_type": "code",
   "execution_count": 2,
   "id": "b655ca91",
   "metadata": {},
   "outputs": [],
   "source": [
    "solution = Solution()"
   ]
  },
  {
   "cell_type": "code",
   "execution_count": 3,
   "id": "6d121276",
   "metadata": {},
   "outputs": [
    {
     "name": "stdout",
     "output_type": "stream",
     "text": [
      "2\n"
     ]
    }
   ],
   "source": [
    "nums1 = [1,1,1]\n",
    "k1 = 2\n",
    "# Output: 2\n",
    "output1 = solution.function(nums1, k1)\n",
    "print(output1)"
   ]
  },
  {
   "cell_type": "code",
   "execution_count": 4,
   "id": "ed6bc903",
   "metadata": {},
   "outputs": [
    {
     "name": "stdout",
     "output_type": "stream",
     "text": [
      "2\n"
     ]
    }
   ],
   "source": [
    "nums2 = [3,2,1]\n",
    "k2 = 3\n",
    "# Output: 2\n",
    "output2 = solution.function(nums2, k2)\n",
    "print(output2)"
   ]
  },
  {
   "cell_type": "code",
   "execution_count": 5,
   "id": "6cb702b3",
   "metadata": {},
   "outputs": [
    {
     "name": "stdout",
     "output_type": "stream",
     "text": [
      "3\n"
     ]
    }
   ],
   "source": [
    "nums3 = [0,1,2,3]\n",
    "k3 = 3\n",
    "# Output: 3\n",
    "output3 = solution.function(nums3, k3)\n",
    "print(output3)"
   ]
  },
  {
   "cell_type": "code",
   "execution_count": null,
   "id": "7de9dac7",
   "metadata": {},
   "outputs": [],
   "source": []
  }
 ],
 "metadata": {
  "kernelspec": {
   "display_name": "Python 3 (ipykernel)",
   "language": "python",
   "name": "python3"
  },
  "language_info": {
   "codemirror_mode": {
    "name": "ipython",
    "version": 3
   },
   "file_extension": ".py",
   "mimetype": "text/x-python",
   "name": "python",
   "nbconvert_exporter": "python",
   "pygments_lexer": "ipython3",
   "version": "3.9.7"
  }
 },
 "nbformat": 4,
 "nbformat_minor": 5
}
