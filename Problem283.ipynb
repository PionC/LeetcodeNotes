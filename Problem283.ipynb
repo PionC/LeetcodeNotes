{
 "cells": [
  {
   "cell_type": "markdown",
   "id": "1ba0ab60",
   "metadata": {},
   "source": [
    "# [283. Move Zeroes](https://leetcode.cn/problems/move-zeroes/description/)"
   ]
  },
  {
   "cell_type": "code",
   "execution_count": 10,
   "id": "ab04b1e4",
   "metadata": {},
   "outputs": [],
   "source": [
    "class Solution:\n",
    "    def moveZeroes2(self, nums):\n",
    "        \"\"\"\n",
    "        Do not return anything, modify nums in-place instead.\n",
    "        \"\"\"\n",
    "        p1, p2 = 0, 0\n",
    "        for p2 in range(0, len(nums)):\n",
    "            if nums[p2] != 0:\n",
    "                nums[p1] = nums[p2]\n",
    "                p1 += 1\n",
    "            p2 += 1\n",
    "        while p1 < len(nums):\n",
    "            nums[p1] = 0\n",
    "            p1 += 1\n",
    "        print(nums)\n",
    "    \n",
    "    def moveZeroes(self, nums):\n",
    "        \"\"\"\n",
    "        Do not return anything, modify nums in-place instead.\n",
    "        \"\"\"\n",
    "        p1 = 0\n",
    "        for p2 in range (0, len(nums)):\n",
    "            if nums[p2] != 0:\n",
    "                nums[p1] = nums[p2]\n",
    "                nums[p2] = 0\n",
    "                p1 += 1\n",
    "        print(nums)"
   ]
  },
  {
   "cell_type": "code",
   "execution_count": 11,
   "id": "98402767",
   "metadata": {},
   "outputs": [],
   "source": [
    "solution = Solution()"
   ]
  },
  {
   "cell_type": "code",
   "execution_count": 12,
   "id": "803a5121",
   "metadata": {},
   "outputs": [
    {
     "name": "stdout",
     "output_type": "stream",
     "text": [
      "[1, 3, 12, 0, 0]\n"
     ]
    }
   ],
   "source": [
    "nums1 = [0,1,0,3,12]\n",
    "# Output: [1,3,12,0,0]\n",
    "solution.moveZeroes(nums1)"
   ]
  },
  {
   "cell_type": "code",
   "execution_count": 4,
   "id": "64b9b4d9",
   "metadata": {},
   "outputs": [
    {
     "name": "stdout",
     "output_type": "stream",
     "text": [
      "[0]\n"
     ]
    }
   ],
   "source": [
    "nums2 = [0]\n",
    "# Output: [0]\n",
    "solution.moveZeroes(nums2)"
   ]
  }
 ],
 "metadata": {
  "kernelspec": {
   "display_name": "Python 3 (ipykernel)",
   "language": "python",
   "name": "python3"
  },
  "language_info": {
   "codemirror_mode": {
    "name": "ipython",
    "version": 3
   },
   "file_extension": ".py",
   "mimetype": "text/x-python",
   "name": "python",
   "nbconvert_exporter": "python",
   "pygments_lexer": "ipython3",
   "version": "3.9.7"
  }
 },
 "nbformat": 4,
 "nbformat_minor": 5
}
