{
 "cells": [
  {
   "cell_type": "markdown",
   "id": "d475f5bc",
   "metadata": {},
   "source": [
    "# [69. Sqrt(x)](https://leetcode.cn/problems/sqrtx/description/)"
   ]
  },
  {
   "cell_type": "code",
   "execution_count": 1,
   "id": "953eda6e",
   "metadata": {},
   "outputs": [],
   "source": [
    "class Solution:\n",
    "    def mySqrt(self, x):\n",
    "        l, r = 0, x\n",
    "        while l <= r:\n",
    "            mid = (l+r) // 2\n",
    "            if mid*mid < x:\n",
    "                l = mid + 1\n",
    "            elif mid*mid > x:\n",
    "                r = mid - 1\n",
    "            else: # mid*mid == x\n",
    "                return mid\n",
    "        return r"
   ]
  },
  {
   "cell_type": "code",
   "execution_count": 2,
   "id": "7874a15f",
   "metadata": {},
   "outputs": [],
   "source": [
    "solution = Solution()"
   ]
  },
  {
   "cell_type": "code",
   "execution_count": 3,
   "id": "5fe9841a",
   "metadata": {},
   "outputs": [
    {
     "name": "stdout",
     "output_type": "stream",
     "text": [
      "2\n"
     ]
    }
   ],
   "source": [
    "x1 = 4\n",
    "# output should be 2\n",
    "output1 = solution.mySqrt(x1)\n",
    "print(output1)"
   ]
  },
  {
   "cell_type": "code",
   "execution_count": 4,
   "id": "6ac25efa",
   "metadata": {},
   "outputs": [
    {
     "name": "stdout",
     "output_type": "stream",
     "text": [
      "2\n"
     ]
    }
   ],
   "source": [
    "x2 = 8\n",
    "# output should be 2\n",
    "output2 = solution.mySqrt(x2)\n",
    "print(output2)"
   ]
  }
 ],
 "metadata": {
  "kernelspec": {
   "display_name": "Python 3 (ipykernel)",
   "language": "python",
   "name": "python3"
  },
  "language_info": {
   "codemirror_mode": {
    "name": "ipython",
    "version": 3
   },
   "file_extension": ".py",
   "mimetype": "text/x-python",
   "name": "python",
   "nbconvert_exporter": "python",
   "pygments_lexer": "ipython3",
   "version": "3.9.7"
  }
 },
 "nbformat": 4,
 "nbformat_minor": 5
}
