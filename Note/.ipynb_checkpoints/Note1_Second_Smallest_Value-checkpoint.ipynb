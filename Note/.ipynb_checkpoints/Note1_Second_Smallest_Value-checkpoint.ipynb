{
 "cells": [
  {
   "cell_type": "markdown",
   "id": "e19233e7",
   "metadata": {},
   "source": [
    "# Maintain the second smallest value"
   ]
  },
  {
   "cell_type": "code",
   "execution_count": 2,
   "id": "4f4e3f93-fd74-4024-954c-1e6f79493f17",
   "metadata": {},
   "outputs": [],
   "source": [
    "import math"
   ]
  },
  {
   "cell_type": "code",
   "execution_count": 3,
   "id": "8515014b",
   "metadata": {},
   "outputs": [],
   "source": [
    "class Solution:\n",
    "    def function(self, s):\n",
    "        smallest = s[0]\n",
    "        second_smallest = math.inf\n",
    "        for i in range (1, len(s)):\n",
    "            if s[i] < smallest: # s[i] < smallest\n",
    "                second_smallest = smallest\n",
    "                smallest = s[i]\n",
    "            elif s[i] > smallest: # s[i] > smallest\n",
    "                if s[i] < second_smallest: # second_smallest > s[i] >= smallest\n",
    "                    second_smallest = s[i]\n",
    "                else: # s[i] > second_smallest > smallest \n",
    "                    pass\n",
    "            else: # s[i] == smallest\n",
    "                pass\n",
    "        return second_smallest"
   ]
  },
  {
   "cell_type": "code",
   "execution_count": 4,
   "id": "b655ca91",
   "metadata": {},
   "outputs": [],
   "source": [
    "solution = Solution()"
   ]
  },
  {
   "cell_type": "code",
   "execution_count": 5,
   "id": "6d121276",
   "metadata": {},
   "outputs": [
    {
     "name": "stdout",
     "output_type": "stream",
     "text": [
      "2\n"
     ]
    }
   ],
   "source": [
    "s1 = [3, 4, 5, 2, 1]\n",
    "# Output: 2\n",
    "output1 = solution.function(s1)\n",
    "print(output1)"
   ]
  },
  {
   "cell_type": "code",
   "execution_count": 6,
   "id": "ed6bc903",
   "metadata": {},
   "outputs": [
    {
     "name": "stdout",
     "output_type": "stream",
     "text": [
      "2\n"
     ]
    }
   ],
   "source": [
    "s2 = [3, 4, 5, 2, 1, 8, 2, 1]\n",
    "# Output: 2\n",
    "output1 = solution.function(s2)\n",
    "print(output1)"
   ]
  }
 ],
 "metadata": {
  "kernelspec": {
   "display_name": "Python 3 (ipykernel)",
   "language": "python",
   "name": "python3"
  },
  "language_info": {
   "codemirror_mode": {
    "name": "ipython",
    "version": 3
   },
   "file_extension": ".py",
   "mimetype": "text/x-python",
   "name": "python",
   "nbconvert_exporter": "python",
   "pygments_lexer": "ipython3",
   "version": "3.11.7"
  }
 },
 "nbformat": 4,
 "nbformat_minor": 5
}
