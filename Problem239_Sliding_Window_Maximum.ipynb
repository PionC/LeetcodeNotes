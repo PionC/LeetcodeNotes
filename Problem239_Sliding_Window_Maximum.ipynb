{
 "cells": [
  {
   "cell_type": "markdown",
   "id": "e19233e7",
   "metadata": {},
   "source": [
    "# [239. Sliding Window Maximum](https://leetcode.cn/problems/sliding-window-maximum/description/?envType=study-plan-v2&envId=top-100-liked)"
   ]
  },
  {
   "cell_type": "code",
   "execution_count": 1,
   "id": "8515014b",
   "metadata": {},
   "outputs": [],
   "source": [
    "from collections import deque\n",
    "class Solution: # Apply queue\n",
    "    def function(self, nums, k):\n",
    "        # Build up a queue which is in a descending order from left to right\n",
    "        # [Large, Middle, Small]\n",
    "        # So pop out the most left side only when the current element is larger than queue[0]\n",
    "        # Otherwise, pop out the most right side\n",
    "        result = []\n",
    "        if len(nums) < k:\n",
    "            return result\n",
    "        queue = deque() # the queue is used for storing the index\n",
    "        for idx, element in enumerate(nums): # enumerate() will return back (index, element) tuples\n",
    "            while queue and nums[queue[-1]] <= element: # When queue exist, and the last element in queue is less than the current element\n",
    "                queue.pop() # continue to pop out the most right side element until all elements in the queue are larger than element\n",
    "            queue.append(idx) # append the current element to the most right side\n",
    "            if idx - queue[0] >= k: # If the range is over the fixed slide window, remove the most left side element, since first-in first-out\n",
    "                queue.popleft()\n",
    "            if idx - 0 >= k -1: # If the slide window has passed position k\n",
    "                result.append(nums[queue[0]])\n",
    "        return result"
   ]
  },
  {
   "cell_type": "code",
   "execution_count": 2,
   "id": "b655ca91",
   "metadata": {},
   "outputs": [],
   "source": [
    "solution = Solution()"
   ]
  },
  {
   "cell_type": "code",
   "execution_count": 3,
   "id": "6d121276",
   "metadata": {},
   "outputs": [
    {
     "name": "stdout",
     "output_type": "stream",
     "text": [
      "[3, 3, 5, 5, 6, 7]\n"
     ]
    }
   ],
   "source": [
    "nums1 = [1,3,-1,-3,5,3,6,7]\n",
    "k1 = 3\n",
    "# Output: [3,3,5,5,6,7]\n",
    "output1 = solution.function(nums1, k1)\n",
    "print(output1)"
   ]
  },
  {
   "cell_type": "code",
   "execution_count": 4,
   "id": "ed6bc903",
   "metadata": {},
   "outputs": [
    {
     "name": "stdout",
     "output_type": "stream",
     "text": [
      "[1]\n"
     ]
    }
   ],
   "source": [
    "nums2 = [1]\n",
    "k2 = 1\n",
    "# Output: [1]\n",
    "output2 = solution.function(nums2, k2)\n",
    "print(output2)"
   ]
  }
 ],
 "metadata": {
  "kernelspec": {
   "display_name": "Python 3 (ipykernel)",
   "language": "python",
   "name": "python3"
  },
  "language_info": {
   "codemirror_mode": {
    "name": "ipython",
    "version": 3
   },
   "file_extension": ".py",
   "mimetype": "text/x-python",
   "name": "python",
   "nbconvert_exporter": "python",
   "pygments_lexer": "ipython3",
   "version": "3.9.7"
  }
 },
 "nbformat": 4,
 "nbformat_minor": 5
}
