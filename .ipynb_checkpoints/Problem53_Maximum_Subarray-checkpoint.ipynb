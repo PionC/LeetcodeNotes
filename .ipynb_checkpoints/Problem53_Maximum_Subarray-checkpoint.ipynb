{
 "cells": [
  {
   "cell_type": "markdown",
   "id": "e19233e7",
   "metadata": {},
   "source": [
    "# [53. Maximum Subarray](https://leetcode.cn/problems/maximum-subarray/description/?envType=study-plan-v2&envId=top-100-liked)"
   ]
  },
  {
   "cell_type": "code",
   "execution_count": 4,
   "id": "8515014b",
   "metadata": {},
   "outputs": [],
   "source": [
    "class Solution:\n",
    "    def function(self, nums): # Presum Method\n",
    "        max_sum = -10001\n",
    "        min_presum = presum = 0\n",
    "        for x in nums:\n",
    "            presum += x\n",
    "            max_sum = max(max_sum, presum - min_presum)\n",
    "            min_presum = min(min_presum, presum)\n",
    "        return max_sum"
   ]
  },
  {
   "cell_type": "code",
   "execution_count": 5,
   "id": "b655ca91",
   "metadata": {},
   "outputs": [],
   "source": [
    "solution = Solution()"
   ]
  },
  {
   "cell_type": "code",
   "execution_count": 6,
   "id": "6d121276",
   "metadata": {},
   "outputs": [
    {
     "name": "stdout",
     "output_type": "stream",
     "text": [
      "6\n"
     ]
    }
   ],
   "source": [
    "nums = [-2,1,-3,4,-1,2,1,-5,4]\n",
    "# Output: 6\n",
    "output1 = solution.function(nums)\n",
    "print(output1)"
   ]
  },
  {
   "cell_type": "code",
   "execution_count": null,
   "id": "ed6bc903",
   "metadata": {},
   "outputs": [],
   "source": [
    "s2 = \"ab##\"\n",
    "t2 = \"c#d#\"\n",
    "# Output: true\n",
    "output2 = solution.function(s2, t2)\n",
    "print(output2)"
   ]
  },
  {
   "cell_type": "code",
   "execution_count": null,
   "id": "ef5e74ac",
   "metadata": {},
   "outputs": [],
   "source": [
    "s3 = \"a#c\"\n",
    "t3 = \"b\"\n",
    "# Output: false\n",
    "output3 = solution.function(s3, t3)\n",
    "print(output3)"
   ]
  }
 ],
 "metadata": {
  "kernelspec": {
   "display_name": "Python 3 (ipykernel)",
   "language": "python",
   "name": "python3"
  },
  "language_info": {
   "codemirror_mode": {
    "name": "ipython",
    "version": 3
   },
   "file_extension": ".py",
   "mimetype": "text/x-python",
   "name": "python",
   "nbconvert_exporter": "python",
   "pygments_lexer": "ipython3",
   "version": "3.9.7"
  }
 },
 "nbformat": 4,
 "nbformat_minor": 5
}
