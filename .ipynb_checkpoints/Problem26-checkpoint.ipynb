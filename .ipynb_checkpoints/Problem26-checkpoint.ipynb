{
 "cells": [
  {
   "cell_type": "markdown",
   "id": "974467aa",
   "metadata": {},
   "source": [
    "# [26. Remove Duplicates from Sorted Array](https://leetcode.cn/problems/remove-duplicates-from-sorted-array/description/)"
   ]
  },
  {
   "cell_type": "code",
   "execution_count": 1,
   "id": "98527755",
   "metadata": {},
   "outputs": [],
   "source": [
    "class Solution:\n",
    "    def removeDuplicates(self, nums): # Fast and Slower Pointer Mathod\n",
    "        p1, p2 = 0, 0\n",
    "        \n",
    "        for p2 in range(1, len(nums)):\n",
    "            if nums[p1] != nums[p2]:\n",
    "                p1 += 1\n",
    "                nums[p1] = nums[p2]\n",
    "            p2 += 1\n",
    "        \n",
    "        return p1+1 # p1 is the index, so the number of unique elements should be p1+1\n",
    "                "
   ]
  },
  {
   "cell_type": "code",
   "execution_count": 2,
   "id": "b67b386d",
   "metadata": {},
   "outputs": [],
   "source": [
    "solution = Solution()"
   ]
  },
  {
   "cell_type": "code",
   "execution_count": 3,
   "id": "8031dd87",
   "metadata": {},
   "outputs": [
    {
     "name": "stdout",
     "output_type": "stream",
     "text": [
      "1\n"
     ]
    }
   ],
   "source": [
    "nums1 = [1,1,2]\n",
    "# Output: 2, nums = [1,2,_]\n",
    "output1 = solution.removeDuplicates(nums1)\n",
    "print(output1)"
   ]
  },
  {
   "cell_type": "code",
   "execution_count": 4,
   "id": "483cbb2c",
   "metadata": {},
   "outputs": [
    {
     "name": "stdout",
     "output_type": "stream",
     "text": [
      "4\n"
     ]
    }
   ],
   "source": [
    "nums2 = [0,0,1,1,1,2,2,3,3,4]\n",
    "# Output: 5, nums = [0,1,2,3,4,_,_,_,_,_]\n",
    "output2 = solution.removeDuplicates(nums2)\n",
    "print(output2)"
   ]
  }
 ],
 "metadata": {
  "kernelspec": {
   "display_name": "Python 3 (ipykernel)",
   "language": "python",
   "name": "python3"
  },
  "language_info": {
   "codemirror_mode": {
    "name": "ipython",
    "version": 3
   },
   "file_extension": ".py",
   "mimetype": "text/x-python",
   "name": "python",
   "nbconvert_exporter": "python",
   "pygments_lexer": "ipython3",
   "version": "3.9.7"
  }
 },
 "nbformat": 4,
 "nbformat_minor": 5
}
