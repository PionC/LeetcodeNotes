{
 "cells": [
  {
   "cell_type": "markdown",
   "id": "e19233e7",
   "metadata": {},
   "source": [
    "# [32. Longest Valid Parentheses](https://leetcode.cn/problems/longest-valid-parentheses/description/?envType=study-plan-v2&envId=top-100-liked)"
   ]
  },
  {
   "cell_type": "markdown",
   "id": "b420781b-ef18-4b86-bcf0-aa9365e102a3",
   "metadata": {},
   "source": [
    "### Notes:\n",
    "- 1. dp[i] means?  \n",
    "  Answer: dp[i] refers to the length of the longest valid and continuous parentheses substring.\n",
    "- 2. dp[i] = ?  \n",
    "  Answer: \n",
    "  - if s[i] = \"(\":\n",
    "    - dp[i] = 0\n",
    "  - if s[i] == \")\" && s[i-1] == \"(\":\n",
    "    - dp[i] = dp[i-2] + 2\n",
    "  - if s[i] == \")\" && s[i-1] == \")\":\n",
    "      - Check if dp[i-dp[i-1]-1] ?= \"(\" \n",
    "          - Yes, dp[i] = dp[i-1] + dp[i-dp[i-1]-2] + 2\n",
    "          - No, dp[i] = dp[i-1] + 0 ?/ dp[i-1] + 0 + 2 Why plus 2 is the correct one?\n",
    "- 3. dp[0] = ?, dp[1] = ?, and so on?  \n",
    "  Answer: dp[0] = 0, dp[1] = 0\n",
    "- 4. Implement / Traverse Step & Order:  \n",
    "  Answer: \n",
    "  - Traverse Step should be 1\n",
    "  - Order should be from the left side to the right side\n",
    "  - Start from index 0\n",
    "- 5. Calculate  "
   ]
  },
  {
   "cell_type": "raw",
   "id": "e4b62ee2-1ab7-43ca-9681-8471a27456e9",
   "metadata": {},
   "source": [
    "0 1 2 3 4 5 6 7 8 9\n",
    ") ( ) ( ) ) ( ( ) )\n",
    "0\n",
    "0 0\n",
    "0 0 2\n",
    "0 0 2 0 \n",
    "0 0 2 0 4\n",
    "0 0 2 0 4 4\n",
    "0 0 2 0 4 4 0\n",
    "0 0 2 0 4 4 0 0\n",
    "0 0 2 0 4 4 0 0 2 4"
   ]
  },
  {
   "cell_type": "code",
   "execution_count": 3,
   "id": "8515014b",
   "metadata": {},
   "outputs": [],
   "source": [
    "class Solution:\n",
    "    def function(self, s: str) -> int:\n",
    "        size = len(s)\n",
    "        if size == 0:\n",
    "            return 0\n",
    "        dp = [0]*size\n",
    "\n",
    "        for i in range(1, size):\n",
    "            # print(\"[debug]\", s[i], i)\n",
    "            if s[i] == \"(\":\n",
    "                dp[i] = 0\n",
    "            elif s[i] == \")\":\n",
    "                # print(\"Here\", i)\n",
    "                if s[i-1] == \"(\":\n",
    "                    if i - 2 >= 0:\n",
    "                        dp[i] = dp[i-2] + 2\n",
    "                    else:\n",
    "                        dp[i] = 0 + 2\n",
    "                elif s[i-1] == \")\":\n",
    "                    if s[i-dp[i-1]-1] == \"(\":\n",
    "                        if i-dp[i-1]-2 >= 0:\n",
    "                            dp[i] = dp[i-1] + dp[i-dp[i-1]-2] + 2\n",
    "                        else: # Here is a problem\n",
    "                            if i-dp[i-1]-1 >= 0:\n",
    "                                dp[i] = dp[i-1] + 2\n",
    "                            else: # i-dp[i-1]-1 <= 0\n",
    "                                dp[i] = 0\n",
    "                    elif s[i-dp[i-1]-1] == \")\":\n",
    "                        dp[i] = 0\n",
    "        # print(dp)\n",
    "        return max(dp)"
   ]
  },
  {
   "cell_type": "code",
   "execution_count": 4,
   "id": "b655ca91",
   "metadata": {},
   "outputs": [],
   "source": [
    "solution = Solution()"
   ]
  },
  {
   "cell_type": "code",
   "execution_count": 5,
   "id": "6d121276",
   "metadata": {},
   "outputs": [
    {
     "name": "stdout",
     "output_type": "stream",
     "text": [
      "2\n"
     ]
    }
   ],
   "source": [
    "s1 = \"(()\"\n",
    "# Output: 2\n",
    "output1 = solution.function(s1)\n",
    "print(output1)"
   ]
  },
  {
   "cell_type": "code",
   "execution_count": 6,
   "id": "ed6bc903",
   "metadata": {},
   "outputs": [
    {
     "name": "stdout",
     "output_type": "stream",
     "text": [
      "4\n"
     ]
    }
   ],
   "source": [
    "s2 = \")()())\"\n",
    "# Output: 4\n",
    "output2 = solution.function(s2)\n",
    "print(output2)"
   ]
  },
  {
   "cell_type": "code",
   "execution_count": 7,
   "id": "ef5e74ac",
   "metadata": {},
   "outputs": [
    {
     "name": "stdout",
     "output_type": "stream",
     "text": [
      "0\n"
     ]
    }
   ],
   "source": [
    "s3 = \"\"\n",
    "# Output: 0\n",
    "output3 = solution.function(s3)\n",
    "print(output3)"
   ]
  },
  {
   "cell_type": "code",
   "execution_count": null,
   "id": "84d260de-2501-451c-b6e8-49890c404249",
   "metadata": {},
   "outputs": [],
   "source": []
  }
 ],
 "metadata": {
  "kernelspec": {
   "display_name": "Python 3 (ipykernel)",
   "language": "python",
   "name": "python3"
  },
  "language_info": {
   "codemirror_mode": {
    "name": "ipython",
    "version": 3
   },
   "file_extension": ".py",
   "mimetype": "text/x-python",
   "name": "python",
   "nbconvert_exporter": "python",
   "pygments_lexer": "ipython3",
   "version": "3.11.7"
  }
 },
 "nbformat": 4,
 "nbformat_minor": 5
}
