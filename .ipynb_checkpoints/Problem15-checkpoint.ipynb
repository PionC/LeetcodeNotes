{
 "cells": [
  {
   "cell_type": "markdown",
   "id": "e19233e7",
   "metadata": {},
   "source": [
    "# [15. 3Sum](https://leetcode.cn/problems/3sum/description/?envType=study-plan-v2&envId=top-100-liked)"
   ]
  },
  {
   "cell_type": "code",
   "execution_count": 1,
   "id": "8515014b",
   "metadata": {},
   "outputs": [],
   "source": [
    "class Solution:\n",
    "    def function(self, nums): # Brute Force\n",
    "        i, j = 0, 0\n",
    "        results = {}\n",
    "        for i in range (0, len(nums)):\n",
    "#         while i < len(nums)-2:\n",
    "            for j in range(i+1, len(nums)):\n",
    "                target = 0 - nums[i] - nums[j]\n",
    "                print(nums[i], nums[j], j)\n",
    "                if j < len(nums)-1 and target in nums[j+1:]:\n",
    "                    tmp_list = [nums[i], nums[j], target]\n",
    "                    tmp_list.sort()\n",
    "                    tmp_set = tuple(tmp_list)\n",
    "                    results.update({tmp_set: 1})\n",
    "        results = list(results.keys())\n",
    "        for idx in range(0, len(results)):\n",
    "            results[idx] = list(results[idx])\n",
    "        return results\n",
    "    \n",
    "    def function2(self, nums):\n",
    "        if len(nums) < 3:\n",
    "            return []\n",
    "        \n",
    "        nums.sort()\n",
    "        result = []\n",
    "\n",
    "        for i in range (0, len(nums)):\n",
    "            if nums[i] > 0: # if nums[i] > 0, then the left 2 nums in the list are both greater than 0, so the sum cannot be 0\n",
    "                return result\n",
    "            if i > 0 and nums[i] == nums[i-1]:  # skip the duplicated elements\n",
    "                continue\n",
    "            l, r = i+1, len(nums)-1\n",
    "            while l < r:\n",
    "                tmp = nums[i] + nums[l] + nums[r]\n",
    "                if tmp > 0: # The tmp is larger than 0, the target1, then the right side pointer should move left-ward\n",
    "                    r -= 1\n",
    "                elif tmp < 0: # The tmp is less than 0, the target, then the left side pointer should move right-ward\n",
    "                    l += 1\n",
    "                elif tmp == 0: # The combination has been found\n",
    "                    result.append([nums[i], nums[l], nums[r]])\n",
    "                    while l < r and nums[l] == nums[l+1]:\n",
    "                        l += 1\n",
    "                    while l < r and nums[r] == nums[r-1]:\n",
    "                        r -= 1\n",
    "                    l += 1\n",
    "                    r -= 1\n",
    "            \n",
    "        return result\n",
    "        \n",
    "\n",
    "            "
   ]
  },
  {
   "cell_type": "code",
   "execution_count": 2,
   "id": "b655ca91",
   "metadata": {},
   "outputs": [],
   "source": [
    "solution = Solution()"
   ]
  },
  {
   "cell_type": "code",
   "execution_count": 3,
   "id": "6d121276",
   "metadata": {},
   "outputs": [
    {
     "name": "stdout",
     "output_type": "stream",
     "text": [
      "[[-1, -1, 2], [-1, 0, 1]]\n"
     ]
    }
   ],
   "source": [
    "nums = [-1,0,1,2,-1,-4]\n",
    "# Output: [[-1,-1,2],[-1,0,1]]\n",
    "output1 = solution.function2(nums)\n",
    "print(output1)"
   ]
  },
  {
   "cell_type": "code",
   "execution_count": 4,
   "id": "ed6bc903",
   "metadata": {},
   "outputs": [
    {
     "name": "stdout",
     "output_type": "stream",
     "text": [
      "[]\n"
     ]
    }
   ],
   "source": [
    "nums = [0,1,1]\n",
    "# Output: []\n",
    "output2 = solution.function2(nums)\n",
    "print(output2)"
   ]
  },
  {
   "cell_type": "code",
   "execution_count": 6,
   "id": "ef5e74ac",
   "metadata": {},
   "outputs": [
    {
     "name": "stdout",
     "output_type": "stream",
     "text": [
      "[[0, 0, 0]]\n"
     ]
    }
   ],
   "source": [
    "nums = [0,0,0]\n",
    "# Output: [[0,0,0]]\n",
    "output3 = solution.function2(nums)\n",
    "print(output3)"
   ]
  },
  {
   "cell_type": "code",
   "execution_count": null,
   "id": "3ef45dab",
   "metadata": {},
   "outputs": [],
   "source": []
  }
 ],
 "metadata": {
  "kernelspec": {
   "display_name": "Python 3 (ipykernel)",
   "language": "python",
   "name": "python3"
  },
  "language_info": {
   "codemirror_mode": {
    "name": "ipython",
    "version": 3
   },
   "file_extension": ".py",
   "mimetype": "text/x-python",
   "name": "python",
   "nbconvert_exporter": "python",
   "pygments_lexer": "ipython3",
   "version": "3.9.7"
  }
 },
 "nbformat": 4,
 "nbformat_minor": 5
}
