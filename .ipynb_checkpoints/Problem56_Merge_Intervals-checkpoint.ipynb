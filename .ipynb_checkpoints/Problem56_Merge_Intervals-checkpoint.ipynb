{
 "cells": [
  {
   "cell_type": "markdown",
   "id": "e19233e7",
   "metadata": {},
   "source": [
    "# [56. Merge Intervals](https://leetcode.cn/problems/merge-intervals/description/?envType=study-plan-v2&envId=top-100-liked)"
   ]
  },
  {
   "cell_type": "code",
   "execution_count": 41,
   "id": "8515014b",
   "metadata": {},
   "outputs": [],
   "source": [
    "class Solution:\n",
    "    def function(self, intervals): # Double Pointer Method\n",
    "        intervals.sort()\n",
    "        print(intervals)\n",
    "        print(\"==========\")\n",
    "        # the left pointer used for record the start of the combined interval\n",
    "        # the right pointer used for record the end of the combined interval\n",
    "        l, r = intervals[0][0], intervals[0][1]\n",
    "        result = []\n",
    "        \n",
    "        for interval in intervals:\n",
    "            print(\"Current: \", interval)\n",
    "            i = interval[0]\n",
    "            if i > r:\n",
    "                result.append([l, r])\n",
    "                print(result)\n",
    "                l = i\n",
    "                print(\"L changed\")\n",
    "            while i < interval[1]:\n",
    "                i += 1\n",
    "            r = max(i, r)\n",
    "            print(\"R changed, \", l, r, i)\n",
    "            print(\"============\")\n",
    "        if intervals[-1][0] >= l and intervals[-1][0] <= r:\n",
    "            result.append([l, r])\n",
    "        print(\"[Result]\", result)\n",
    "        return result\n",
    "    \n",
    "    def function2(self, intervals): # Sort Normal Method\n",
    "        intervals.sort()\n",
    "        result = []\n",
    "        for interval in intervals: # Compare two intervals\n",
    "            if not result or result[-1][1] < interval[0]:\n",
    "                result.append(interval)\n",
    "            else:\n",
    "                result[-1][1] = max(interval[1], result[-1][1])\n",
    "        return result\n",
    "        "
   ]
  },
  {
   "cell_type": "code",
   "execution_count": 42,
   "id": "b655ca91",
   "metadata": {},
   "outputs": [],
   "source": [
    "solution = Solution()"
   ]
  },
  {
   "cell_type": "code",
   "execution_count": 37,
   "id": "6d121276",
   "metadata": {},
   "outputs": [
    {
     "name": "stdout",
     "output_type": "stream",
     "text": [
      "[[1, 3], [2, 6], [8, 10], [15, 18]]\n",
      "==========\n",
      "Current:  [1, 3]\n",
      "R changed,  1 3 3\n",
      "============\n",
      "Current:  [2, 6]\n",
      "R changed,  1 6 6\n",
      "============\n",
      "Current:  [8, 10]\n",
      "[[1, 6]]\n",
      "L changed\n",
      "R changed,  8 10 10\n",
      "============\n",
      "Current:  [15, 18]\n",
      "[[1, 6], [8, 10]]\n",
      "L changed\n",
      "R changed,  15 18 18\n",
      "============\n",
      "[Result] [[1, 6], [8, 10], [15, 18]]\n",
      "[[1, 6], [8, 10], [15, 18]]\n"
     ]
    }
   ],
   "source": [
    "intervals1 = [[1,3],[2,6],[8,10],[15,18]]\n",
    "# Output: [[1,6],[8,10],[15,18]]\n",
    "output1 = solution.function(intervals1)\n",
    "print(output1)"
   ]
  },
  {
   "cell_type": "code",
   "execution_count": 38,
   "id": "ed6bc903",
   "metadata": {},
   "outputs": [
    {
     "name": "stdout",
     "output_type": "stream",
     "text": [
      "[[1, 4], [4, 5]]\n",
      "==========\n",
      "Current:  [1, 4]\n",
      "R changed,  1 4 4\n",
      "============\n",
      "Current:  [4, 5]\n",
      "R changed,  1 5 5\n",
      "============\n",
      "[Result] [[1, 5]]\n",
      "[[1, 5]]\n"
     ]
    }
   ],
   "source": [
    "intervals2 = [[1,4],[4,5]]\n",
    "# Output: [[1,5]]\n",
    "# Output: true\n",
    "output2 = solution.function(intervals2)\n",
    "print(output2)"
   ]
  },
  {
   "cell_type": "code",
   "execution_count": 39,
   "id": "51e42caa",
   "metadata": {},
   "outputs": [
    {
     "name": "stdout",
     "output_type": "stream",
     "text": [
      "[[1, 4], [2, 3]]\n",
      "==========\n",
      "Current:  [1, 4]\n",
      "R changed,  1 4 4\n",
      "============\n",
      "Current:  [2, 3]\n",
      "R changed,  1 4 3\n",
      "============\n",
      "[Result] [[1, 4]]\n",
      "[[1, 4]]\n"
     ]
    }
   ],
   "source": [
    "intervals3 = [[1,4],[2,3]]\n",
    "# Output: [[1,4]]\n",
    "output3 = solution.function(intervals3)\n",
    "print(output3)"
   ]
  },
  {
   "cell_type": "code",
   "execution_count": 40,
   "id": "22d29da6",
   "metadata": {},
   "outputs": [
    {
     "name": "stdout",
     "output_type": "stream",
     "text": [
      "[[2, 2], [2, 3], [3, 4], [3, 4], [5, 5]]\n",
      "==========\n",
      "Current:  [2, 2]\n",
      "R changed,  2 2 2\n",
      "============\n",
      "Current:  [2, 3]\n",
      "R changed,  2 3 3\n",
      "============\n",
      "Current:  [3, 4]\n",
      "R changed,  2 4 4\n",
      "============\n",
      "Current:  [3, 4]\n",
      "R changed,  2 4 4\n",
      "============\n",
      "Current:  [5, 5]\n",
      "[[2, 4]]\n",
      "L changed\n",
      "R changed,  5 5 5\n",
      "============\n",
      "[Result] [[2, 4]]\n",
      "[[2, 4]]\n"
     ]
    }
   ],
   "source": [
    "intervals4 = [[2,3],[5,5],[2,2],[3,4],[3,4]]\n",
    "# Output: [[2,4],[5,5]]\n",
    "output4 = solution.function(intervals4)\n",
    "print(output4)"
   ]
  },
  {
   "cell_type": "code",
   "execution_count": null,
   "id": "61c82d6e",
   "metadata": {},
   "outputs": [],
   "source": []
  }
 ],
 "metadata": {
  "kernelspec": {
   "display_name": "Python 3 (ipykernel)",
   "language": "python",
   "name": "python3"
  },
  "language_info": {
   "codemirror_mode": {
    "name": "ipython",
    "version": 3
   },
   "file_extension": ".py",
   "mimetype": "text/x-python",
   "name": "python",
   "nbconvert_exporter": "python",
   "pygments_lexer": "ipython3",
   "version": "3.9.7"
  }
 },
 "nbformat": 4,
 "nbformat_minor": 5
}
