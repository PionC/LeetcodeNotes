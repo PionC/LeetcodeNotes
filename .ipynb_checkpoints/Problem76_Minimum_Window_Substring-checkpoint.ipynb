{
 "cells": [
  {
   "cell_type": "code",
   "execution_count": 1,
   "id": "e05feeb8",
   "metadata": {},
   "outputs": [],
   "source": [
    "s = \"ADOBECODEBANC\"\n",
    "t = \"ABC\""
   ]
  },
  {
   "cell_type": "code",
   "execution_count": 2,
   "id": "bd25f141",
   "metadata": {},
   "outputs": [],
   "source": [
    "class Solution:\n",
    "    def minWindow3(self, s: str, t: str) -> str:\n",
    "            # Sliding window with two hash maps, \n",
    "            # one hash map for the occurrence of the alphabets in the slide window\n",
    "            # one hash map for recording the alphabets of the template\n",
    "\n",
    "            len_s = len(s)\n",
    "            len_t = len(t)\n",
    "            t_dict = { \"have\" : 0 }\n",
    "            subs_dict = { \"have\" : 0 }\n",
    "            l = 0\n",
    "            r = 0\n",
    "            min_len = 100000\n",
    "            output = \"\"\n",
    "            rc = -1\n",
    "\n",
    "            # Record t\n",
    "            for i in range (0, len_t):\n",
    "                subs_dict.update({ t[i] : 0 })\n",
    "                t_dict.update({ \"have\" : t_dict[\"have\"]+1 })\n",
    "                if t[i] in t_dict.keys():\n",
    "                    t_dict.update({t[i] : t_dict[t[i]]+1})\n",
    "                else:\n",
    "                    t_dict.update({t[i] : 1})\n",
    "\n",
    "            # Start the slide window\n",
    "            while r < len_s:\n",
    "                rc += 1\n",
    "                print(\"{a}, {b}, l = {c}, r = {d}, s[r] = {e}\".format(a=rc,b=s[l:r+1], c=l, d=r, e=s[r]))\n",
    "                if subs_dict[\"have\"] < t_dict[\"have\"]:\n",
    "                    # update the subs_dict[\"have\"] and subs_dict[s[r]]\n",
    "                    # and r moves forward\n",
    "                    if s[r] in subs_dict.keys():\n",
    "                        subs_dict.update({ \"have\" : subs_dict[\"have\"]+1 })\n",
    "                        subs_dict.update({ s[r] : subs_dict[s[r]]+1 })\n",
    "#                     print(\"1: {a}, {b}\".format(a=rc,b=s[l:r]))\n",
    "                else: # when subs_dict[\"have\"] >= t_dict[\"have\"]\n",
    "                    print(subs_dict.values())\n",
    "                    if 0 not in subs_dict.values():\n",
    "                        # all alphabets has occurred\n",
    "                        # record the min_len and output\n",
    "                        # update the subs_dicsubs_dict\n",
    "                        # l moves forward\n",
    "                        while subs_dict[\"have\"] >= t_dict[\"have\"]:\n",
    "                            tmp_len = r - l + 1\n",
    "                            if tmp_len <= min_len:\n",
    "                                min_len = tmp_len\n",
    "                                output = s[l:r+1]\n",
    "#                                 print(\"2: {a}, {b}\".format(a=rc,b=output))\n",
    "                            if s[l] in subs_dict.keys():\n",
    "                                subs_dict.update({ \"have\" : subs_dict[\"have\"]-1 })\n",
    "                                subs_dict.update({ s[l] : subs_dict[s[l]]-1 })\n",
    "#                                 print(\"3: {a}, {b}, {c}\".format(a=rc,b=s[l:r],c=subs_dict[\"have\"]))\n",
    "                            l += 1\n",
    "\n",
    "                    else: # 0 in subs_dict.values()\n",
    "                        # r moves forward\n",
    "                        if s[r] in subs_dict.keys():\n",
    "                            subs_dict.update({ \"have\" : subs_dict[\"have\"]+1 })\n",
    "                            subs_dict.update({ s[r] : subs_dict[s[r]]+1 })\n",
    "#                             print(\"4: {a}, {b}\".format(a=rc,b=s[l:r]))\n",
    "                r += 1\n",
    "\n",
    "            return output, rc\n",
    "    \n",
    "    \n",
    "    def minWindow4(self, s: str, t: str) -> str:\n",
    "            # Sliding window with two hash maps, \n",
    "            # one hash map for the occurrence of the alphabets in the slide window\n",
    "            # one hash map for recording the alphabets of the template\n",
    "\n",
    "            len_s = len(s)\n",
    "            len_t = len(t)\n",
    "            t_dict = { \"have\" : 0 }\n",
    "            subs_dict = { \"have\" : 0 }\n",
    "            l = 0\n",
    "            r = 0\n",
    "            min_len = 100000\n",
    "            output = \"\"\n",
    "            rc = -1\n",
    "\n",
    "            # Record t\n",
    "            for i in range (0, len_t):\n",
    "                subs_dict.update({ t[i] : 0 })\n",
    "                t_dict.update({ \"have\" : t_dict[\"have\"]+1 })\n",
    "                if t[i] in t_dict.keys():\n",
    "                    t_dict.update({t[i] : t_dict[t[i]]+1})\n",
    "                else:\n",
    "                    t_dict.update({t[i] : 1})\n",
    "\n",
    "            # Start the slide window\n",
    "            while r < len_s:\n",
    "                rc += 1\n",
    "                print(\"{a}, {b}, l = {c}, r = {d}, s[r] = {e}\".format(a=rc,b=s[l:r+1], c=l, d=r, e=s[r]))\n",
    "                \n",
    "                    # update the subs_dict[\"have\"] and subs_dict[s[r]]\n",
    "                    # and r moves forward\n",
    "                if s[r] in subs_dict.keys():\n",
    "                    subs_dict.update({ \"have\" : subs_dict[\"have\"]+1 })\n",
    "                    subs_dict.update({ s[r] : subs_dict[s[r]]+1 })\n",
    "#                     print(\"1: {a}, {b}\".format(a=rc,b=s[l:r]))\n",
    "                if subs_dict[\"have\"] >= t_dict[\"have\"]:\n",
    "                    print(subs_dict.values())\n",
    "                    if 0 not in subs_dict.values():\n",
    "                        # all alphabets has occurred\n",
    "                        # record the min_len and output\n",
    "                        # update the subs_dicsubs_dict\n",
    "                        # l moves forward\n",
    "                        while subs_dict[\"have\"] >= t_dict[\"have\"]:\n",
    "                            print(l,r)\n",
    "#                             l += 1\n",
    "                            tmp_len = r - l + 1\n",
    "                            if tmp_len <= min_len:\n",
    "                                min_len = tmp_len\n",
    "                                output = s[l:r+1]\n",
    "#                                 print(\"2: {a}, {b}\".format(a=rc,b=output))\n",
    "                            if s[l] in subs_dict.keys():\n",
    "                                subs_dict.update({ \"have\" : subs_dict[\"have\"]-1 })\n",
    "                                subs_dict.update({ s[l] : subs_dict[s[l]]-1 })\n",
    "#                                 print(\"3: {a}, {b}, {c}\".format(a=rc,b=s[l:r],c=subs_dict[\"have\"]))\n",
    "                            l += 1\n",
    "\n",
    "                    else: # 0 in subs_dict.values()\n",
    "                        # r moves forward\n",
    "                        if s[r] in subs_dict.keys():\n",
    "                            subs_dict.update({ \"have\" : subs_dict[\"have\"]+1 })\n",
    "                            subs_dict.update({ s[r] : subs_dict[s[r]]+1 })\n",
    "#                             print(\"4: {a}, {b}\".format(a=rc,b=s[l:r]))\n",
    "                r += 1\n",
    "\n",
    "            return output, rc\n"
   ]
  },
  {
   "cell_type": "code",
   "execution_count": 3,
   "id": "548cec90",
   "metadata": {},
   "outputs": [
    {
     "name": "stdout",
     "output_type": "stream",
     "text": [
      "0, A, l = 0, r = 0, s[r] = A\n",
      "1, AD, l = 0, r = 1, s[r] = D\n",
      "2, ADO, l = 0, r = 2, s[r] = O\n",
      "3, ADOB, l = 0, r = 3, s[r] = B\n",
      "4, ADOBE, l = 0, r = 4, s[r] = E\n",
      "5, ADOBEC, l = 0, r = 5, s[r] = C\n",
      "dict_values([3, 1, 1, 1])\n",
      "0 5\n",
      "1 5\n",
      "2 5\n",
      "6, BECO, l = 3, r = 6, s[r] = O\n",
      "7, BECOD, l = 3, r = 7, s[r] = D\n",
      "8, BECODE, l = 3, r = 8, s[r] = E\n",
      "9, BECODEB, l = 3, r = 9, s[r] = B\n",
      "dict_values([3, 1, 1, 1])\n",
      "3 9\n",
      "4 9\n",
      "10, CODEBA, l = 5, r = 10, s[r] = A\n",
      "dict_values([3, 2, 1, 0])\n",
      "11, CODEBAN, l = 5, r = 11, s[r] = N\n",
      "dict_values([4, 3, 1, 0])\n",
      "12, CODEBANC, l = 5, r = 12, s[r] = C\n",
      "dict_values([5, 3, 1, 1])\n",
      "5 12\n",
      "6 12\n",
      "7 12\n",
      "8 12\n",
      "9 12\n",
      "10 12\n",
      "11 12\n"
     ]
    }
   ],
   "source": [
    "solution = Solution()\n",
    "output, rc = solution.minWindow4(s, t)"
   ]
  },
  {
   "cell_type": "code",
   "execution_count": 4,
   "id": "a58c26f7",
   "metadata": {},
   "outputs": [
    {
     "data": {
      "text/plain": [
       "'C'"
      ]
     },
     "execution_count": 4,
     "metadata": {},
     "output_type": "execute_result"
    }
   ],
   "source": [
    "output"
   ]
  },
  {
   "cell_type": "code",
   "execution_count": 5,
   "id": "88922f9b",
   "metadata": {},
   "outputs": [
    {
     "data": {
      "text/plain": [
       "12"
      ]
     },
     "execution_count": 5,
     "metadata": {},
     "output_type": "execute_result"
    }
   ],
   "source": [
    "rc"
   ]
  },
  {
   "cell_type": "markdown",
   "id": "4285c347",
   "metadata": {},
   "source": [
    "s = \"ADOBECODEBANC\"\n",
    "t = \"ABC\""
   ]
  }
 ],
 "metadata": {
  "kernelspec": {
   "display_name": "Python 3 (ipykernel)",
   "language": "python",
   "name": "python3"
  },
  "language_info": {
   "codemirror_mode": {
    "name": "ipython",
    "version": 3
   },
   "file_extension": ".py",
   "mimetype": "text/x-python",
   "name": "python",
   "nbconvert_exporter": "python",
   "pygments_lexer": "ipython3",
   "version": "3.9.7"
  }
 },
 "nbformat": 4,
 "nbformat_minor": 5
}
