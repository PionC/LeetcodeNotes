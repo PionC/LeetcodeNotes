{
 "cells": [
  {
   "cell_type": "code",
   "execution_count": 1,
   "id": "f0943950",
   "metadata": {},
   "outputs": [],
   "source": [
    "s = \"acbbaca\"\n",
    "t = \"aba\""
   ]
  },
  {
   "cell_type": "code",
   "execution_count": 2,
   "id": "5456d303",
   "metadata": {},
   "outputs": [],
   "source": [
    "class Solution:\n",
    "    def minWindow(self, s: str, t: str) -> str:\n",
    "        # Sliding window with two hash maps, \n",
    "        # one hash map for the occurrence of the alphabets in the slide window\n",
    "        # one hash map for recording the alphabets of the template\n",
    "\n",
    "        len_s = len(s)\n",
    "        len_t = len(t)\n",
    "        t_dict = { \"have\" : 0 }\n",
    "        subs_dict = { \"have\" : 0 }\n",
    "        l = 0\n",
    "        r = 0\n",
    "        min_len = 100000\n",
    "        output = \"\"\n",
    "\n",
    "        # Record t\n",
    "        for i in range (0, len_t):\n",
    "            subs_dict.update({ t[i] : 0 })\n",
    "            t_dict.update({ \"have\" : t_dict[\"have\"]+1 })\n",
    "            if t[i] in t_dict.keys():\n",
    "                t_dict.update({t[i] : t_dict[t[i]]+1})\n",
    "            else:\n",
    "                t_dict.update({t[i] : 1})\n",
    "\n",
    "        # Start the slide window\n",
    "        while r < len_s:\n",
    "            # update the subs_dict[\"have\"] and subs_dict[s[r]]\n",
    "            # and r moves forward\n",
    "            if s[r] in subs_dict.keys():\n",
    "                subs_dict.update({ \"have\" : subs_dict[\"have\"]+1 })\n",
    "                subs_dict.update({ s[r] : subs_dict[s[r]]+1 })\n",
    "            while subs_dict[\"have\"] >= t_dict[\"have\"]:\n",
    "                flag = None\n",
    "                for i in range(0, len(list(subs_dict.values()))):\n",
    "                    if list(subs_dict.values())[i] < list(t_dict.values())[i]:\n",
    "                        flag = False\n",
    "                        break\n",
    "                    else:\n",
    "                        flag = True\n",
    "                if flag == True:\n",
    "                # all alphabets has occurred\n",
    "                # record the min_len and output \n",
    "                # update the subs_dicsubs_dict\n",
    "                # l moves forward\n",
    "                    tmp_len = r - l + 1\n",
    "                    if tmp_len <= min_len:\n",
    "                        min_len = tmp_len\n",
    "                        output = s[l:r+1]\n",
    "                    if s[l] in subs_dict.keys():\n",
    "                        subs_dict.update({ \"have\" : subs_dict[\"have\"]-1 })\n",
    "                        subs_dict.update({ s[l] : subs_dict[s[l]]-1 })\n",
    "                    l += 1\n",
    "                else: # if 0 in subs_dict.values(), stop moving l, then move r forward\n",
    "                    break\n",
    "            r += 1\n",
    "        \n",
    "        return output\n"
   ]
  },
  {
   "cell_type": "code",
   "execution_count": 3,
   "id": "3a23ed4f",
   "metadata": {},
   "outputs": [],
   "source": [
    "solution = Solution()\n",
    "output = solution.minWindow(s, t)"
   ]
  },
  {
   "cell_type": "code",
   "execution_count": 4,
   "id": "03448050",
   "metadata": {},
   "outputs": [
    {
     "data": {
      "text/plain": [
       "'baca'"
      ]
     },
     "execution_count": 4,
     "metadata": {},
     "output_type": "execute_result"
    }
   ],
   "source": [
    "output"
   ]
  },
  {
   "cell_type": "markdown",
   "id": "c2695f44",
   "metadata": {},
   "source": [
    "s = \"ADOBECODEBANC\"\n",
    "t = \"ABC\""
   ]
  },
  {
   "cell_type": "code",
   "execution_count": null,
   "id": "9f543da1",
   "metadata": {},
   "outputs": [],
   "source": []
  },
  {
   "cell_type": "code",
   "execution_count": 12,
   "id": "a4bf2de9",
   "metadata": {},
   "outputs": [],
   "source": [
    "di = {\"a\":1, \"b\":2, \"c\":3}\n",
    "do = {\"a\":3, \"b\":2, \"c\":3}"
   ]
  },
  {
   "cell_type": "code",
   "execution_count": 6,
   "id": "8c5957ef",
   "metadata": {},
   "outputs": [],
   "source": [
    "a = list(di.values())"
   ]
  },
  {
   "cell_type": "code",
   "execution_count": 13,
   "id": "e12dc0a3",
   "metadata": {},
   "outputs": [
    {
     "data": {
      "text/plain": [
       "True"
      ]
     },
     "execution_count": 13,
     "metadata": {},
     "output_type": "execute_result"
    }
   ],
   "source": [
    "list(di.values()) < list(do.values())"
   ]
  },
  {
   "cell_type": "code",
   "execution_count": 10,
   "id": "3ff68593",
   "metadata": {},
   "outputs": [
    {
     "data": {
      "text/plain": [
       "[1, 2, 3]"
      ]
     },
     "execution_count": 10,
     "metadata": {},
     "output_type": "execute_result"
    }
   ],
   "source": [
    "list(di.values())"
   ]
  },
  {
   "cell_type": "code",
   "execution_count": 11,
   "id": "b7cace11",
   "metadata": {},
   "outputs": [
    {
     "data": {
      "text/plain": [
       "[3, 2, 1]"
      ]
     },
     "execution_count": 11,
     "metadata": {},
     "output_type": "execute_result"
    }
   ],
   "source": [
    "list(do.values())"
   ]
  },
  {
   "cell_type": "code",
   "execution_count": null,
   "id": "5275b011",
   "metadata": {},
   "outputs": [],
   "source": []
  }
 ],
 "metadata": {
  "kernelspec": {
   "display_name": "Python 3 (ipykernel)",
   "language": "python",
   "name": "python3"
  },
  "language_info": {
   "codemirror_mode": {
    "name": "ipython",
    "version": 3
   },
   "file_extension": ".py",
   "mimetype": "text/x-python",
   "name": "python",
   "nbconvert_exporter": "python",
   "pygments_lexer": "ipython3",
   "version": "3.9.7"
  }
 },
 "nbformat": 4,
 "nbformat_minor": 5
}
