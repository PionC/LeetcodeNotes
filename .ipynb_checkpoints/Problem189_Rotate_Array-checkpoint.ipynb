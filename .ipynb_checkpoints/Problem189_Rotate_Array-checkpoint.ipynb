{
 "cells": [
  {
   "cell_type": "markdown",
   "id": "e19233e7",
   "metadata": {},
   "source": [
    "# [189. Rotate Array](https://leetcode.cn/problems/rotate-array/description/?envType=study-plan-v2&envId=top-100-liked)"
   ]
  },
  {
   "cell_type": "markdown",
   "id": "f2287082",
   "metadata": {},
   "source": [
    "1, 2, 3, 4, 5, 6, 7\n",
    "7, 6, 5, 4, 3, 2, 1\n",
    "7, 6, 5| 4, 3, 2, 1\n",
    "5, 6, 7| 1, 2, 3, 4\n",
    "5, 6 ,7, 1, 2, 3, 4"
   ]
  },
  {
   "cell_type": "code",
   "execution_count": 7,
   "id": "8515014b",
   "metadata": {},
   "outputs": [],
   "source": [
    "from collections import deque\n",
    "class Solution:\n",
    "    def function(self, nums, k): # This should work but the requirement is modify nums in-place\n",
    "        i = 0\n",
    "        q = deque()\n",
    "        for num in nums:\n",
    "            q.append(num)\n",
    "        print(\"Check\", q)\n",
    "        print(\"==========\")\n",
    "        while i < k:\n",
    "            tmp = q.pop()\n",
    "            q.appendleft(tmp)\n",
    "            print(i, q)\n",
    "            i += 1\n",
    "            \n",
    "    def reverse(self, nums, start, end):\n",
    "        while start < end:\n",
    "            tmp = nums[start]\n",
    "            nums[start] = nums[end]\n",
    "            nums[end] = tmp\n",
    "            start += 1\n",
    "            end -= 1\n",
    "            \n",
    "    def function2(self, nums, k):\n",
    "        if k > len(nums):\n",
    "            k = k % len(nums)\n",
    "        self.reverse(nums, 0, len(nums)-1)\n",
    "        self.reverse(nums, 0, k-1)\n",
    "        self.reverse(nums, k, len(nums)-1)"
   ]
  },
  {
   "cell_type": "code",
   "execution_count": 8,
   "id": "b655ca91",
   "metadata": {},
   "outputs": [],
   "source": [
    "solution = Solution()"
   ]
  },
  {
   "cell_type": "code",
   "execution_count": 9,
   "id": "6d121276",
   "metadata": {},
   "outputs": [
    {
     "name": "stdout",
     "output_type": "stream",
     "text": [
      "Check deque([1, 2, 3, 4, 5, 6, 7])\n",
      "==========\n",
      "0 deque([7, 1, 2, 3, 4, 5, 6])\n",
      "1 deque([6, 7, 1, 2, 3, 4, 5])\n",
      "2 deque([5, 6, 7, 1, 2, 3, 4])\n",
      "None\n"
     ]
    }
   ],
   "source": [
    "nums1 = [1,2,3,4,5,6,7]\n",
    "k1 = 3\n",
    "# Output: [5,6,7,1,2,3,4]\n",
    "output1 = solution.function(nums1, k1)\n",
    "print(output1)"
   ]
  },
  {
   "cell_type": "code",
   "execution_count": null,
   "id": "ed6bc903",
   "metadata": {},
   "outputs": [],
   "source": [
    "nums2 = [-1,-100,3,99]\n",
    "k2 = 2\n",
    "# Output: [3,99,-1,-100]\n",
    "output2 = solution.function(nums2, k2)\n",
    "print(output2)"
   ]
  },
  {
   "cell_type": "code",
   "execution_count": null,
   "id": "ef5e74ac",
   "metadata": {},
   "outputs": [],
   "source": [
    "s3 = \"a#c\"\n",
    "t3 = \"b\"\n",
    "# Output: false\n",
    "output3 = solution.function(s3, t3)\n",
    "print(output3)"
   ]
  },
  {
   "cell_type": "code",
   "execution_count": 10,
   "id": "f07febbe",
   "metadata": {},
   "outputs": [
    {
     "data": {
      "text/plain": [
       "0"
      ]
     },
     "execution_count": 10,
     "metadata": {},
     "output_type": "execute_result"
    }
   ],
   "source": [
    "2 % 1"
   ]
  }
 ],
 "metadata": {
  "kernelspec": {
   "display_name": "Python 3 (ipykernel)",
   "language": "python",
   "name": "python3"
  },
  "language_info": {
   "codemirror_mode": {
    "name": "ipython",
    "version": 3
   },
   "file_extension": ".py",
   "mimetype": "text/x-python",
   "name": "python",
   "nbconvert_exporter": "python",
   "pygments_lexer": "ipython3",
   "version": "3.9.7"
  }
 },
 "nbformat": 4,
 "nbformat_minor": 5
}
