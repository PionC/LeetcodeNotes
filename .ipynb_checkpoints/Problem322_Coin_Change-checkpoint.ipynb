{
 "cells": [
  {
   "cell_type": "markdown",
   "id": "e19233e7",
   "metadata": {},
   "source": [
    "# [322. Coin Change](https://leetcode.cn/problems/coin-change/description/?envType=study-plan-v2&envId=top-100-liked)"
   ]
  },
  {
   "cell_type": "markdown",
   "id": "e75458cd-980b-407e-8128-1412b13e31ec",
   "metadata": {},
   "source": [
    "- 1. dp[i] means?\n",
    "Answer: dp[i] means the fewest number of coins that make up that amount of money\n",
    "- 2. dp[i] = min()\n",
    "Answer: dp[i] = min(dp[i-j1*j1], dp[i-j2*j2], ...) + 1 (j = 1, 2, 3, ...)\n",
    "- 3. dp[0] = ?, dp[1] = ?, and so on?\n",
    "Answer: dp[0] = 0, dp[1] = 1\n",
    "- 4. Implement\n",
    "- 5. Calculate\n",
    "\n",
    "Side Notes:\n",
    "- dp[i] = min(dp[i-dp[j1]], dp[i-dp[j2]], dp[i-dp[j3]], ...) + 1 (j = 0, 1, 2, ...)\n",
    "\n",
    "dp[0] = 0, dp[1] = dp[0] + 1"
   ]
  },
  {
   "cell_type": "code",
   "execution_count": null,
   "id": "8515014b",
   "metadata": {},
   "outputs": [],
   "source": [
    "class Solution:\n",
    "    def function(self, coins, amount):\n",
    "        if len(coins) == 1 and amount % coins[0] != 0:\n",
    "            return -1\n",
    "        dp = [-1] * (amount + 1)\n",
    "        dp[0] = 0\n",
    "        coins.sort()\n",
    "        for i in range (1, amount+1):\n",
    "            min_num = float('inf')\n",
    "            for j in range(0, len(coins)):\n",
    "                if i < coins[j] or dp[i - coins[j]] == -1:\n",
    "                    continue\n",
    "                min_num = min(min_num, dp[i - coins[j]])\n",
    "            if min_num < float('inf'):\n",
    "                dp[i] = min_num + 1\n",
    "        return dp[amount]"
   ]
  },
  {
   "cell_type": "code",
   "execution_count": null,
   "id": "b655ca91",
   "metadata": {},
   "outputs": [],
   "source": [
    "solution = Solution()"
   ]
  },
  {
   "cell_type": "code",
   "execution_count": null,
   "id": "6d121276",
   "metadata": {},
   "outputs": [],
   "source": [
    "coins = [1,2,5]\n",
    "amount = 11\n",
    "# Output: 3\n",
    "output1 = solution.function(s1, t1)\n",
    "print(output1)"
   ]
  },
  {
   "cell_type": "code",
   "execution_count": null,
   "id": "ed6bc903",
   "metadata": {},
   "outputs": [],
   "source": [
    "coins = [2]\n",
    "amount = 3\n",
    "# Output: -1\n",
    "output2 = solution.function(s2, t2)\n",
    "print(output2)"
   ]
  },
  {
   "cell_type": "code",
   "execution_count": null,
   "id": "ef5e74ac",
   "metadata": {},
   "outputs": [],
   "source": [
    "coins = [1]\n",
    "amount = 0\n",
    "# Output: 0\n",
    "output3 = solution.function(s3, t3)\n",
    "print(output3)"
   ]
  }
 ],
 "metadata": {
  "kernelspec": {
   "display_name": "Python 3 (ipykernel)",
   "language": "python",
   "name": "python3"
  },
  "language_info": {
   "codemirror_mode": {
    "name": "ipython",
    "version": 3
   },
   "file_extension": ".py",
   "mimetype": "text/x-python",
   "name": "python",
   "nbconvert_exporter": "python",
   "pygments_lexer": "ipython3",
   "version": "3.11.7"
  }
 },
 "nbformat": 4,
 "nbformat_minor": 5
}
