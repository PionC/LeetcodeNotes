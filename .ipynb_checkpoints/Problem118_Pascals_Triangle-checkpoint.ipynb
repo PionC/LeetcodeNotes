{
 "cells": [
  {
   "cell_type": "markdown",
   "id": "e19233e7",
   "metadata": {},
   "source": [
    "# [118. Pascal's Triangle](https://leetcode.cn/problems/pascals-triangle/description/?envType=study-plan-v2&envId=top-100-liked)"
   ]
  },
  {
   "cell_type": "code",
   "execution_count": 2,
   "id": "8515014b",
   "metadata": {},
   "outputs": [],
   "source": [
    "class Solution:\n",
    "    def function(self, numRows):\n",
    "        # 1. dp[i][j] means?\n",
    "        # Answer: dp[i][j] means the sum of the previous two neighbors\n",
    "        # 2. dp[i][j] = ?\n",
    "        # Answer: dp[i][j] = dp[i-1][j-1] + dp[i-1][j]\n",
    "        # 3. dp[0] = ?, dp[1] = ?, and so on?\n",
    "        # Answer: dp[0][0] = 1, dp[1][0] = dp[1][1] = 1\n",
    "        # 4. Implement\n",
    "        # 5. Calculate\n",
    "        if numRows == 1:\n",
    "            return [[1]]\n",
    "        if numRows == 2:\n",
    "            return [[1], [1, 1]]\n",
    "        res = [[1], [1, 1]]\n",
    "        for i in range (2, numRows):\n",
    "            res.append([1] * (i+1))\n",
    "            for j in range (1, i):\n",
    "                # print(i, j)\n",
    "                res[i][j] = res[i-1][j-1] + res[i-1][j]\n",
    "        # print(res)\n",
    "        return res"
   ]
  },
  {
   "cell_type": "code",
   "execution_count": 4,
   "id": "b655ca91",
   "metadata": {},
   "outputs": [],
   "source": [
    "solution = Solution()"
   ]
  },
  {
   "cell_type": "code",
   "execution_count": 6,
   "id": "6d121276",
   "metadata": {},
   "outputs": [
    {
     "name": "stdout",
     "output_type": "stream",
     "text": [
      "[[1], [1, 1], [1, 2, 1], [1, 3, 3, 1], [1, 4, 6, 4, 1]]\n"
     ]
    }
   ],
   "source": [
    "numRows1 = 5\n",
    "# Output: [[1],[1,1],[1,2,1],[1,3,3,1],[1,4,6,4,1]]\n",
    "output1 = solution.function(numRows1)\n",
    "print(output1)"
   ]
  },
  {
   "cell_type": "code",
   "execution_count": 8,
   "id": "ed6bc903",
   "metadata": {},
   "outputs": [
    {
     "name": "stdout",
     "output_type": "stream",
     "text": [
      "[[1]]\n"
     ]
    }
   ],
   "source": [
    "numRows2 = 1\n",
    "# Output: [[1]]\n",
    "output2 = solution.function(numRows2)\n",
    "print(output2)"
   ]
  },
  {
   "cell_type": "code",
   "execution_count": null,
   "id": "c7779ed9-30e2-4b65-816e-b2e3239ed113",
   "metadata": {},
   "outputs": [],
   "source": []
  }
 ],
 "metadata": {
  "kernelspec": {
   "display_name": "Python 3 (ipykernel)",
   "language": "python",
   "name": "python3"
  },
  "language_info": {
   "codemirror_mode": {
    "name": "ipython",
    "version": 3
   },
   "file_extension": ".py",
   "mimetype": "text/x-python",
   "name": "python",
   "nbconvert_exporter": "python",
   "pygments_lexer": "ipython3",
   "version": "3.11.7"
  }
 },
 "nbformat": 4,
 "nbformat_minor": 5
}
