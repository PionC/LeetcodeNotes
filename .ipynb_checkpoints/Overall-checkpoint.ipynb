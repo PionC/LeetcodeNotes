{
 "cells": [
  {
   "cell_type": "markdown",
   "id": "2b683531",
   "metadata": {},
   "source": [
    "# Hash Table\n",
    "- [1. Two Sum](https://leetcode.cn/problems/two-sum/?envType=study-plan-v2&envId=top-100-liked)\n",
    "- [49. Group Anagrams](https://leetcode.cn/problems/group-anagrams/description/?envType=study-plan-v2&envId=top-100-liked)\n",
    "- [128. Longest Consecutive Sequence](https://leetcode.cn/problems/longest-consecutive-sequence/description/?envType=study-plan-v2&envId=top-100-liked)\n",
    "- Self-Hash Table\n",
    "    - [41. First Missing Positive](https://leetcode.cn/problems/first-missing-positive/description/?envType=study-plan-v2&envId=top-100-liked)\n",
    "        - (Use the original list as a hash table, and it explains the basic principle of exchange operation in python)"
   ]
  },
  {
   "cell_type": "markdown",
   "id": "d1cde660",
   "metadata": {},
   "source": [
    "# Sort\n",
    "- [56. Merge Intervals](https://leetcode.cn/problems/merge-intervals/description/?envType=study-plan-v2&envId=top-100-liked)"
   ]
  },
  {
   "cell_type": "markdown",
   "id": "07276662",
   "metadata": {},
   "source": [
    "#  Double Pointer\n",
    "- [283. Move Zeros](https://leetcode.cn/problems/move-zeroes/description/?envType=study-plan-v2&envId=top-100-liked)\n",
    "- [15. 3Sum](https://leetcode.cn/problems/3sum/?envType=study-plan-v2&envId=top-100-liked)\n",
    "- #### Container with Water Related\n",
    "    - [11. Container with Most Water](https://leetcode.cn/problems/container-with-most-water/description/?envType=study-plan-v2&envId=top-100-liked)\n",
    "    - [42. Trapping Rain Water](https://leetcode.cn/problems/trapping-rain-water/description/?envType=study-plan-v2&envId=top-100-liked)\n",
    "        - The trick of solving this type problem is always using the short bar to calculate the result\n",
    "- [160. Intersection of Two Linked Lists](https://leetcode.cn/problems/intersection-of-two-linked-lists/description/?envType=study-plan-v2&envId=top-100-liked)"
   ]
  },
  {
   "cell_type": "markdown",
   "id": "61fcc988",
   "metadata": {},
   "source": [
    "#  Slide Window\n",
    "- [3. Longest Substring Without Repeating Characters](https://leetcode.cn/problems/longest-substring-without-repeating-characters/description/?envType=study-plan-v2&envId=top-100-liked)\n",
    "- [438. Find All Anagrams in a String](https://leetcode.cn/problems/find-all-anagrams-in-a-string/description/?envType=study-plan-v2&envId=top-100-liked)\n",
    "- [76. Minimum Window Substring](https://leetcode.cn/problems/minimum-window-substring/description/?envType=study-plan-v2&envId=top-100-liked)"
   ]
  },
  {
   "cell_type": "markdown",
   "id": "d30a6e7a",
   "metadata": {},
   "source": [
    "# Substrings\n",
    "- ### PreSum Method (especially used for calculating the sum of subarrays)\n",
    "    - [560. Subarray Sum Equals K](https://leetcode.cn/problems/find-all-anagrams-in-a-string/description/?envType=study-plan-v2&envId=top-100-liked)\n",
    "    - [53. Maximum Subarray](https://leetcode.cn/problems/maximum-subarray/description/?envType=study-plan-v2&envId=top-100-liked)\n",
    "    \n",
    "- ### Queue\n",
    "    - [239. Sliding Window Maximum](https://leetcode.cn/problems/sliding-window-maximum/description/?envType=study-plan-v2&envId=top-100-liked)"
   ]
  },
  {
   "cell_type": "markdown",
   "id": "219e9b4d",
   "metadata": {},
   "source": [
    "# Recursion\n",
    "- [679. 24 Game](https://leetcode.cn/problems/24-game/description/)\n",
    "remove the selected nums from the list and append the possible results to the end of the list of further use"
   ]
  },
  {
   "cell_type": "markdown",
   "id": "1d31c54d",
   "metadata": {},
   "source": [
    "# Greedy\n",
    "- [240. Search a 2D Matrix II](https://leetcode.cn/problems/search-a-2d-matrix-ii/description/?envType=study-plan-v2&envId=top-100-liked)"
   ]
  },
  {
   "cell_type": "markdown",
   "id": "89e92377",
   "metadata": {},
   "source": [
    "# Backtracking\n"
   ]
  },
  {
   "cell_type": "markdown",
   "id": "f1fb7fbb",
   "metadata": {},
   "source": [
    "# Other Tricky Methods\n",
    "- ### Array\n",
    "    - [189. Rotate Array](https://leetcode.cn/problems/rotate-array/description/?envType=study-plan-v2&envId=top-100-liked)"
   ]
  },
  {
   "cell_type": "markdown",
   "id": "d12ac62a-05e0-4d76-86c3-cad1e9b0401f",
   "metadata": {},
   "source": [
    "# Greedy Algorithm\n",
    "- [121. Best Time to Buy and Sell Stock](https://leetcode.cn/problems/best-time-to-buy-and-sell-stock/?envType=study-plan-v2&envId=top-100-liked)\n",
    "- [55. Jump Game](https://leetcode.cn/problems/jump-game/description/?envType=study-plan-v2&envId=top-100-liked)\n",
    "- [763. Partition Labels](https://leetcode.cn/problems/partition-labels/description/?envType=study-plan-v2&envId=top-100-liked)\n",
    "    - Map + Sliding Window + Greedy Algorithm"
   ]
  },
  {
   "cell_type": "markdown",
   "id": "7741b180-fd0f-42bd-86dc-5e912427a265",
   "metadata": {
    "jp-MarkdownHeadingCollapsed": true
   },
   "source": [
    "# Dynamic Programming\n",
    "#### Features:\n",
    "- Replace Time with Space\n",
    "\n",
    "#### Key to use Dynamic Programming:\n",
    "- Transfer the Status\n",
    "\n",
    "### **5 Steps of Dynamic Programming:**\n",
    "- Design the `Status`:\n",
    "    - Figure out what is the meaning of `dp[i]`.\n",
    "- Get `Status Transfer Equation`:\n",
    "    - Figure out what is the relationship between `dp[i+1]` and `dp[i]`.\n",
    "- Get `Initial Status`:\n",
    "    - Figure out what is `dp[0]` or other known values\n",
    "- Implement the `Status Transfer`\n",
    "- Calculate the result `dp[n]`\n",
    "\n",
    "#### Problems:\n",
    "- [70. Climbing Stairs](https://leetcode.cn/problems/climbing-stairs/description/?envType=study-plan-v2&envId=top-100-liked)\n",
    "    - Space Complexity can be optimised\n",
    "        - since `dp[i]` is only related to the latest two statuses,\n",
    "        - so we can record and maintain the latest two statuses with two parameters,\n",
    "        - which decrease the Space Complexity from `O(n)` into `O(1)`.\n",
    "    \n",
    "- [118. Pascal's Triangle](https://leetcode.cn/problems/pascals-triangle/description/?envType=study-plan-v2&envId=top-100-liked)\n",
    "- [198. House Robber](https://leetcode.cn/problems/house-robber/description/?envType=study-plan-v2&envId=top-100-liked)\n",
    "- Similar Problems with the same solution:\n",
    "    - [279. Perfect Squares](https://leetcode.cn/problems/perfect-squares/description/?envType=study-plan-v2&envId=top-100-liked)\n",
    "    - [322. Coin Change](https://leetcode.cn/problems/coin-change/description/?envType=study-plan-v2&envId=top-100-liked)\n",
    "    - [139. Word Break](https://leetcode.cn/problems/word-break/description/?envType=study-plan-v2&envId=top-100-liked)\n",
    "- 0/1 Knapsack Related\n",
    "    - [Original 0/1 Knapsack Problem - Youtube Video Only (No Leetcode)](https://www.youtube.com/watch?v=cJ21moQpofY&t=597s)"
   ]
  }
 ],
 "metadata": {
  "kernelspec": {
   "display_name": "Python 3 (ipykernel)",
   "language": "python",
   "name": "python3"
  },
  "language_info": {
   "codemirror_mode": {
    "name": "ipython",
    "version": 3
   },
   "file_extension": ".py",
   "mimetype": "text/x-python",
   "name": "python",
   "nbconvert_exporter": "python",
   "pygments_lexer": "ipython3",
   "version": "3.11.7"
  }
 },
 "nbformat": 4,
 "nbformat_minor": 5
}
