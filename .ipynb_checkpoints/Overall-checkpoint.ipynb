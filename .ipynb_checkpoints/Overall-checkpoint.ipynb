{
 "cells": [
  {
   "cell_type": "markdown",
   "id": "2b683531",
   "metadata": {},
   "source": [
    "# Hash Table\n",
    "- [1. Two Sum](https://leetcode.cn/problems/two-sum/?envType=study-plan-v2&envId=top-100-liked)\n",
    "- [49. Group Anagrams](https://leetcode.cn/problems/group-anagrams/description/?envType=study-plan-v2&envId=top-100-liked)\n",
    "- [128. Longest Consecutive Sequence](https://leetcode.cn/problems/longest-consecutive-sequence/description/?envType=study-plan-v2&envId=top-100-liked)\n",
    "- Self-Hash Table\n",
    "    - [41. First Missing Positive](https://leetcode.cn/problems/first-missing-positive/description/?envType=study-plan-v2&envId=top-100-liked)\n",
    "        - (Use the original list as a hash table, and it explains the basic principle of exchange operation in python)"
   ]
  },
  {
   "cell_type": "markdown",
   "id": "d1cde660",
   "metadata": {},
   "source": [
    "# Sort\n",
    "- [56. Merge Intervals](https://leetcode.cn/problems/merge-intervals/description/?envType=study-plan-v2&envId=top-100-liked)"
   ]
  },
  {
   "cell_type": "markdown",
   "id": "07276662",
   "metadata": {},
   "source": [
    "#  Double Pointer\n",
    "- [283. Move Zeros](https://leetcode.cn/problems/move-zeroes/description/?envType=study-plan-v2&envId=top-100-liked)\n",
    "- [15. 3Sum](https://leetcode.cn/problems/3sum/?envType=study-plan-v2&envId=top-100-liked)\n",
    "- #### Container with Water Related\n",
    "    - [11. Container with Most Water](https://leetcode.cn/problems/container-with-most-water/description/?envType=study-plan-v2&envId=top-100-liked)\n",
    "    - [42. Trapping Rain Water](https://leetcode.cn/problems/trapping-rain-water/description/?envType=study-plan-v2&envId=top-100-liked)\n",
    "        - The trick of solving this type problem is always using the short bar to calculate the result\n",
    "- [160. Intersection of Two Linked Lists](https://leetcode.cn/problems/intersection-of-two-linked-lists/description/?envType=study-plan-v2&envId=top-100-liked)"
   ]
  },
  {
   "cell_type": "markdown",
   "id": "61fcc988",
   "metadata": {},
   "source": [
    "#  Slide Window\n",
    "- [3. Longest Substring Without Repeating Characters](https://leetcode.cn/problems/longest-substring-without-repeating-characters/description/?envType=study-plan-v2&envId=top-100-liked)\n",
    "- [438. Find All Anagrams in a String](https://leetcode.cn/problems/find-all-anagrams-in-a-string/description/?envType=study-plan-v2&envId=top-100-liked)\n",
    "- [76. Minimum Window Substring](https://leetcode.cn/problems/minimum-window-substring/description/?envType=study-plan-v2&envId=top-100-liked)"
   ]
  },
  {
   "cell_type": "markdown",
   "id": "d30a6e7a",
   "metadata": {},
   "source": [
    "# Substrings\n",
    "- ### PreSum Method (especially used for calculating the sum of subarrays)\n",
    "    - [560. Subarray Sum Equals K](https://leetcode.cn/problems/find-all-anagrams-in-a-string/description/?envType=study-plan-v2&envId=top-100-liked)\n",
    "    - [53. Maximum Subarray](https://leetcode.cn/problems/maximum-subarray/description/?envType=study-plan-v2&envId=top-100-liked)\n",
    "    \n",
    "- ### Queue\n",
    "    - [239. Sliding Window Maximum](https://leetcode.cn/problems/sliding-window-maximum/description/?envType=study-plan-v2&envId=top-100-liked)"
   ]
  },
  {
   "cell_type": "markdown",
   "id": "219e9b4d",
   "metadata": {},
   "source": [
    "# Recursion\n",
    "- [679. 24 Game](https://leetcode.cn/problems/24-game/description/)\n",
    "remove the selected nums from the list and append the possible results to the end of the list of further use"
   ]
  },
  {
   "cell_type": "markdown",
   "id": "1d31c54d",
   "metadata": {},
   "source": [
    "# Greedy\n",
    "- [240. Search a 2D Matrix II](https://leetcode.cn/problems/search-a-2d-matrix-ii/description/?envType=study-plan-v2&envId=top-100-liked)"
   ]
  },
  {
   "cell_type": "markdown",
   "id": "89e92377",
   "metadata": {},
   "source": [
    "# Backtracking\n"
   ]
  },
  {
   "cell_type": "markdown",
   "id": "f1fb7fbb",
   "metadata": {},
   "source": [
    "# Other Tricky Methods\n",
    "- ### Array\n",
    "    - [189. Rotate Array](https://leetcode.cn/problems/rotate-array/description/?envType=study-plan-v2&envId=top-100-liked)"
   ]
  },
  {
   "cell_type": "markdown",
   "id": "d12ac62a-05e0-4d76-86c3-cad1e9b0401f",
   "metadata": {},
   "source": [
    "# Greedy Algorithm\n",
    "- [121. Best Time to Buy and Sell Stock](https://leetcode.cn/problems/best-time-to-buy-and-sell-stock/?envType=study-plan-v2&envId=top-100-liked)\n",
    "- [55. Jump Game](https://leetcode.cn/problems/jump-game/description/?envType=study-plan-v2&envId=top-100-liked)\n",
    "- [763. Partition Labels](https://leetcode.cn/problems/partition-labels/description/?envType=study-plan-v2&envId=top-100-liked)\n",
    "    - Map + Sliding Window + Greedy Algorithm"
   ]
  },
  {
   "cell_type": "markdown",
   "id": "7741b180-fd0f-42bd-86dc-5e912427a265",
   "metadata": {},
   "source": [
    "# Dynamic Programming\n",
    "动态规划 (dp) 是一种思想，并不一定要用来求解最优值（最大值或最小值），而且能够用来求解满足某种约束的答案。甚至高中阶段用到的排列组合其实就是动态规划一种。斐波那契数列是一个典型的 线性dp 问题。动态规划所说的 「最优子结构」就是问题能够分解为若干子问题，这些子问题可能存在重叠，然后就是子问题最优的时候原问题也一定最优。然后「后无效性」是说，动态规划的状态顶点之间，在逻辑上面是一个 『DAG 结构』，这是一个图，一个有向无环图（如果你觉得把逻辑结构想象为一个图有点抽象，可以尝试想想一些二分查找的过程逻辑上面等价于一个树），如果逻辑上面有环则将涉及一系列的破环技巧，比如插头 DP 等等。然后 up 提到 动态规划是一个带缓存的分治算法，这个观点是不对的，动态规划确实用到分治思想，但它与我们通过所说的『分治算法』有一点不一样，分治算法逻辑上面是一棵树，同一层的子问题是没有交集的，但是动态规划的子问题是一个有向无环图，是存在大量重叠的子问题的。然后最后up 提到的「这种方法叫做状态压缩」也是不对的，「状态压缩」是一种位运算技巧，此处用到的优化技巧叫做 「滚动数组」，不知道 up 是不是受到了 labuladong 影响，labuladong 有一篇高阅读量的题解提到了错把这个方法称为「状态压缩」，但是这种称呼是一个谬传，而且labuladong大部分的题解来自于 USA 力扣翻译，里面很多东西可能 labuladong 也不理解。\n",
    "\n",
    "#### Features:\n",
    "- Replace Time with Space\n",
    "\n",
    "#### Key to use Dynamic Programming:\n",
    "- Transfer the Status\n",
    "\n",
    "### **5 Steps of Dynamic Programming:**\n",
    "- Design the `Status`:\n",
    "    - Figure out what is the meaning of `dp[i]`.\n",
    "- Get `Status Transfer Equation`:\n",
    "    - Figure out what is the relationship between `dp[i+1]` and `dp[i]`.\n",
    "- Get `Initial Status`:\n",
    "    - Figure out what is `dp[0]` or other known values\n",
    "- Implement the `Status Transfer`\n",
    "- Calculate the result `dp[n]`\n",
    "\n",
    "#### Problems:\n",
    "- [70. Climbing Stairs](https://leetcode.cn/problems/climbing-stairs/description/?envType=study-plan-v2&envId=top-100-liked)"
   ]
  }
 ],
 "metadata": {
  "kernelspec": {
   "display_name": "Python 3 (ipykernel)",
   "language": "python",
   "name": "python3"
  },
  "language_info": {
   "codemirror_mode": {
    "name": "ipython",
    "version": 3
   },
   "file_extension": ".py",
   "mimetype": "text/x-python",
   "name": "python",
   "nbconvert_exporter": "python",
   "pygments_lexer": "ipython3",
   "version": "3.11.7"
  }
 },
 "nbformat": 4,
 "nbformat_minor": 5
}
