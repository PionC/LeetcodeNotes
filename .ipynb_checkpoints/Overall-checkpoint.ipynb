{
 "cells": [
  {
   "cell_type": "markdown",
   "id": "2b683531",
   "metadata": {},
   "source": [
    "# Hash Table\n",
    "- [1. Two Sum](https://leetcode.cn/problems/two-sum/?envType=study-plan-v2&envId=top-100-liked)\n",
    "- [49. Group Anagrams](https://leetcode.cn/problems/group-anagrams/description/?envType=study-plan-v2&envId=top-100-liked)\n",
    "- [128. Longest Consecutive Sequence](https://leetcode.cn/problems/longest-consecutive-sequence/description/?envType=study-plan-v2&envId=top-100-liked)"
   ]
  },
  {
   "cell_type": "markdown",
   "id": "07276662",
   "metadata": {},
   "source": [
    "#  Double Pointer\n",
    "- [283. Move Zeros](https://leetcode.cn/problems/move-zeroes/description/?envType=study-plan-v2&envId=top-100-liked)\n",
    "- [11. Container with Most Water](https://leetcode.cn/problems/container-with-most-water/description/?envType=study-plan-v2&envId=top-100-liked)\n",
    "- [15. 3Sum](https://leetcode.cn/problems/3sum/?envType=study-plan-v2&envId=top-100-liked)"
   ]
  },
  {
   "cell_type": "markdown",
   "id": "61fcc988",
   "metadata": {},
   "source": [
    "#  Slide Window\n"
   ]
  },
  {
   "cell_type": "markdown",
   "id": "219e9b4d",
   "metadata": {},
   "source": [
    "# Recursion\n",
    "- [679. 24 Game](https://leetcode.cn/problems/24-game/description/)\n",
    "remove the selected nums from the list and append the possible results to the end of the list of further use"
   ]
  }
 ],
 "metadata": {
  "kernelspec": {
   "display_name": "Python 3 (ipykernel)",
   "language": "python",
   "name": "python3"
  },
  "language_info": {
   "codemirror_mode": {
    "name": "ipython",
    "version": 3
   },
   "file_extension": ".py",
   "mimetype": "text/x-python",
   "name": "python",
   "nbconvert_exporter": "python",
   "pygments_lexer": "ipython3",
   "version": "3.9.7"
  }
 },
 "nbformat": 4,
 "nbformat_minor": 5
}
