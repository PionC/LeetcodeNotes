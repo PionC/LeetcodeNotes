{
 "cells": [
  {
   "cell_type": "markdown",
   "id": "e19233e7",
   "metadata": {},
   "source": [
    "# [Original 0/1 Knapsack Problem - Youtube Video Only (No Leetcode)](https://www.youtube.com/watch?v=cJ21moQpofY&t=597s)"
   ]
  },
  {
   "cell_type": "markdown",
   "id": "c59c2b26-1c97-4cb4-a3e8-5d7ad97a3d76",
   "metadata": {},
   "source": [
    "## Problem Description\n",
    "Given N items where each item has some weight and profit associated with it and also given a bag with capacity W, [i.e., the bag can hold at most W weight in it]. The task is to put the items into the bag such that the sum of profits associated with them is the maximum possible. \n",
    "\n",
    "Note: The constraint here is we can either put an item completely into the bag or cannot put it at all [It is not possible to put a part of an item into the bag]."
   ]
  },
  {
   "cell_type": "markdown",
   "id": "a0e82742-7a59-4275-8f75-2a4221184d1b",
   "metadata": {},
   "source": [
    "- Input: \n",
    "    - N = 3\n",
    "    -  W = 4\n",
    "        - value[] = {15, 20, 30}\n",
    "    - weight[] = {1, 3, 4}\n",
    "- Output: 3\n",
    "\n"
   ]
  },
  {
   "cell_type": "markdown",
   "id": "f5c698a2-e13b-495a-9876-6cdb37ee7276",
   "metadata": {},
   "source": [
    "### Solution:\n",
    "- Define the definition/meaning of dp\n",
    "    - 2D Array dp[i][j]\n",
    "        - i refers to the item that is to be put into the Knapsack\n",
    "        - j refers to the current weight of the Knapsack\n",
    "- Define the transfer equation\n",
    "    - dp[i][j] = dp[i-1][j-w[i]] + v[i]\n",
    "\n"
   ]
  },
  {
   "cell_type": "code",
   "execution_count": 5,
   "id": "e213e149-5f4a-40c4-928f-e5448e156843",
   "metadata": {},
   "outputs": [],
   "source": [
    "# Side Notes:\n",
    "#       | 1 | 2 | 3 | 4 |j\n",
    "# 0 | 0 | 0 | 0 | 0 | 0\n",
    "# 1 | 0 | 15| 15| 15| 15\n",
    "# 2 | 0 | 15| 15| 20| 35\n",
    "# 3 | 0 | 15| 15| 20| 35\n",
    "# i 0"
   ]
  },
  {
   "cell_type": "code",
   "execution_count": 6,
   "id": "8515014b",
   "metadata": {},
   "outputs": [],
   "source": [
    "class Solution:\n",
    "    def function(self, n, w, values, weights):\n",
    "        # dp = [[0] * (w+1)] * (n+1)\n",
    "\n",
    "        dp = [[0]*(w+1) for _ in range(n+1)]\n",
    "        for i in range(1, n+1):\n",
    "            for j in range(1, w+1):\n",
    "                if j - weights[i-1] < 0:\n",
    "                    dp[i][j] = dp[i-1][j]\n",
    "                else:\n",
    "                    dp[i][j] = max(dp[i-1][j-weights[i-1]] + values[i-1], dp[i-1][j])\n",
    "        return dp[n][w]"
   ]
  },
  {
   "cell_type": "code",
   "execution_count": 7,
   "id": "b655ca91",
   "metadata": {},
   "outputs": [],
   "source": [
    "solution = Solution()"
   ]
  },
  {
   "cell_type": "code",
   "execution_count": 8,
   "id": "ed6bc903",
   "metadata": {},
   "outputs": [
    {
     "name": "stdout",
     "output_type": "stream",
     "text": [
      "35\n"
     ]
    }
   ],
   "source": [
    "n = 3\n",
    "w = 4\n",
    "values = [15, 20, 30]\n",
    "weights = [1, 3, 4]\n",
    "# Output: true\n",
    "output2 = solution.function(n, w, values, weights)\n",
    "print(output2)"
   ]
  },
  {
   "cell_type": "code",
   "execution_count": null,
   "id": "967dc839-0b68-43ec-aadd-132113de80f3",
   "metadata": {},
   "outputs": [],
   "source": []
  }
 ],
 "metadata": {
  "kernelspec": {
   "display_name": "Python 3 (ipykernel)",
   "language": "python",
   "name": "python3"
  },
  "language_info": {
   "codemirror_mode": {
    "name": "ipython",
    "version": 3
   },
   "file_extension": ".py",
   "mimetype": "text/x-python",
   "name": "python",
   "nbconvert_exporter": "python",
   "pygments_lexer": "ipython3",
   "version": "3.11.7"
  }
 },
 "nbformat": 4,
 "nbformat_minor": 5
}
