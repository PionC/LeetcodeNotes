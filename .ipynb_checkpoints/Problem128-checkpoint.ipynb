{
 "cells": [
  {
   "cell_type": "markdown",
   "id": "e19233e7",
   "metadata": {},
   "source": [
    "# [128. Longest Consecutive Sequence](https://leetcode.cn/problems/longest-consecutive-sequence/description/?envType=study-plan-v2&envId=top-100-liked)"
   ]
  },
  {
   "cell_type": "code",
   "execution_count": 1,
   "id": "8515014b",
   "metadata": {},
   "outputs": [],
   "source": [
    "class Solution:\n",
    "    def longestConsecutive(self, nums): # Slide Window Method\n",
    "        max_len = 0\n",
    "        l, r = 0, 1\n",
    "        nums.sort()\n",
    "        while r < len(nums):\n",
    "            if nums[r] == nums[r-1] + 1:\n",
    "                max_len = max((r-l)+1, max_len)\n",
    "                r += 1\n",
    "                print(\"[1]\", \"l\", l, \"r\", r, \"max_len\", max_len)\n",
    "            else:\n",
    "                l = r\n",
    "                r += 1\n",
    "                print(\"[2]\")\n",
    "        return max_len\n",
    "            "
   ]
  },
  {
   "cell_type": "code",
   "execution_count": 2,
   "id": "b655ca91",
   "metadata": {},
   "outputs": [],
   "source": [
    "solution = Solution()"
   ]
  },
  {
   "cell_type": "code",
   "execution_count": 4,
   "id": "6d121276",
   "metadata": {},
   "outputs": [
    {
     "name": "stdout",
     "output_type": "stream",
     "text": [
      "[1] l 0 r 2 max_len 2\n",
      "[1] l 0 r 3 max_len 3\n",
      "[1] l 0 r 4 max_len 4\n",
      "[2]\n",
      "[2]\n",
      "4\n"
     ]
    }
   ],
   "source": [
    "nums = [100,4,200,1,3,2]\n",
    "# Output: 4\n",
    "output1 = solution.longestConsecutive(nums)\n",
    "print(output1)"
   ]
  },
  {
   "cell_type": "code",
   "execution_count": 5,
   "id": "ed6bc903",
   "metadata": {},
   "outputs": [
    {
     "name": "stdout",
     "output_type": "stream",
     "text": [
      "[2]\n",
      "[1] l 1 r 3 max_len 2\n",
      "[1] l 1 r 4 max_len 3\n",
      "[1] l 1 r 5 max_len 4\n",
      "[1] l 1 r 6 max_len 5\n",
      "[1] l 1 r 7 max_len 6\n",
      "[1] l 1 r 8 max_len 7\n",
      "[1] l 1 r 9 max_len 8\n",
      "[1] l 1 r 10 max_len 9\n",
      "9\n"
     ]
    }
   ],
   "source": [
    "nums = [0,3,7,2,5,8,4,6,0,1]\n",
    "# Output: 9\n",
    "output2 = solution.longestConsecutive(nums)\n",
    "print(output2)"
   ]
  },
  {
   "cell_type": "code",
   "execution_count": 3,
   "id": "1ccae2b4",
   "metadata": {},
   "outputs": [
    {
     "name": "stdout",
     "output_type": "stream",
     "text": [
      "[2]\n",
      "[1] l 1 r 3 max_len 2\n",
      "[1] l 1 r 4 max_len 3\n",
      "[2]\n",
      "[1] l 4 r 6 max_len 3\n",
      "[1] l 4 r 7 max_len 3\n",
      "[1] l 4 r 8 max_len 4\n",
      "[1] l 4 r 9 max_len 5\n",
      "[1] l 4 r 10 max_len 6\n",
      "[1] l 4 r 11 max_len 7\n",
      "7\n"
     ]
    }
   ],
   "source": [
    "nums = [9,1,4,7,3,-1,0,5,8,-1,6]\n",
    "output3 = solution.longestConsecutive(nums)\n",
    "print(output3)"
   ]
  },
  {
   "cell_type": "code",
   "execution_count": 32,
   "id": "38627ff1",
   "metadata": {},
   "outputs": [],
   "source": [
    "nums = [9,1,4,7,3,-1,0,5,8,-1,6]\n",
    "nums.sort()\n"
   ]
  },
  {
   "cell_type": "code",
   "execution_count": 33,
   "id": "5d7726f8",
   "metadata": {},
   "outputs": [
    {
     "data": {
      "text/plain": [
       "[-1, -1, 0, 1, 3, 4, 5, 6, 7, 8, 9]"
      ]
     },
     "execution_count": 33,
     "metadata": {},
     "output_type": "execute_result"
    }
   ],
   "source": [
    "nums"
   ]
  }
 ],
 "metadata": {
  "kernelspec": {
   "display_name": "Python 3 (ipykernel)",
   "language": "python",
   "name": "python3"
  },
  "language_info": {
   "codemirror_mode": {
    "name": "ipython",
    "version": 3
   },
   "file_extension": ".py",
   "mimetype": "text/x-python",
   "name": "python",
   "nbconvert_exporter": "python",
   "pygments_lexer": "ipython3",
   "version": "3.9.7"
  }
 },
 "nbformat": 4,
 "nbformat_minor": 5
}
