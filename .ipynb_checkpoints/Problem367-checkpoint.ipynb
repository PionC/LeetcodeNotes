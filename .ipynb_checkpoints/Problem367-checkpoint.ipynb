{
 "cells": [
  {
   "cell_type": "markdown",
   "id": "d6dec07a",
   "metadata": {},
   "source": [
    "# [367. Valid Perfect Square](https://leetcode.cn/problems/valid-perfect-square/description/)"
   ]
  },
  {
   "cell_type": "code",
   "execution_count": 1,
   "id": "ed7e8e7c",
   "metadata": {},
   "outputs": [],
   "source": [
    "class Solution:\n",
    "    def isPerfectSquare(self, num):\n",
    "        l, r = 0, num\n",
    "        while l <= r:\n",
    "            mid = (l+r) // 2\n",
    "            if mid*mid < num: # num is in right part\n",
    "                l = mid + 1\n",
    "            elif mid*mid > num: # num is in left part\n",
    "                r = mid - 1\n",
    "            else: # mid*mid == num\n",
    "                return True\n",
    "        return False"
   ]
  },
  {
   "cell_type": "code",
   "execution_count": 2,
   "id": "fff19fd5",
   "metadata": {},
   "outputs": [],
   "source": [
    "solution = Solution()"
   ]
  },
  {
   "cell_type": "code",
   "execution_count": 3,
   "id": "e8d27c50",
   "metadata": {},
   "outputs": [
    {
     "name": "stdout",
     "output_type": "stream",
     "text": [
      "True\n"
     ]
    }
   ],
   "source": [
    "num1 = 16\n",
    "# output1 should be true\n",
    "output1 = solution.isPerfectSquare(num1)\n",
    "print(output1)"
   ]
  },
  {
   "cell_type": "code",
   "execution_count": 4,
   "id": "8325b085",
   "metadata": {},
   "outputs": [
    {
     "name": "stdout",
     "output_type": "stream",
     "text": [
      "False\n"
     ]
    }
   ],
   "source": [
    "num2 = 14\n",
    "# output1 should be true\n",
    "output2 = solution.isPerfectSquare(num2)\n",
    "print(output2)"
   ]
  }
 ],
 "metadata": {
  "kernelspec": {
   "display_name": "Python 3 (ipykernel)",
   "language": "python",
   "name": "python3"
  },
  "language_info": {
   "codemirror_mode": {
    "name": "ipython",
    "version": 3
   },
   "file_extension": ".py",
   "mimetype": "text/x-python",
   "name": "python",
   "nbconvert_exporter": "python",
   "pygments_lexer": "ipython3",
   "version": "3.9.7"
  }
 },
 "nbformat": 4,
 "nbformat_minor": 5
}
