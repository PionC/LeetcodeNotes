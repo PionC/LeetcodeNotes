{
 "cells": [
  {
   "cell_type": "markdown",
   "id": "ae80af3b",
   "metadata": {},
   "source": [
    "# [27. Remove Element](https://leetcode.cn/problems/remove-element/description/)"
   ]
  },
  {
   "cell_type": "code",
   "execution_count": 1,
   "id": "bff96542",
   "metadata": {},
   "outputs": [],
   "source": [
    "class Solution:\n",
    "    def removeElement(self, nums, val): # Fast and Slow Pointers Method applied\n",
    "        # fast pointer detect the non-target value, and slow pointer record the current position\n",
    "        p1, p2 = 0, 0\n",
    "        while p2 < len(nums):\n",
    "            if nums[p2] != val: \n",
    "                nums[p1] = nums[p2]\n",
    "                p1 += 1\n",
    "            p2 += 1\n",
    "        return p1, nums\n",
    "                \n",
    "    "
   ]
  },
  {
   "cell_type": "code",
   "execution_count": 2,
   "id": "2c24b220",
   "metadata": {},
   "outputs": [],
   "source": [
    "solution = Solution()"
   ]
  },
  {
   "cell_type": "code",
   "execution_count": 3,
   "id": "a43c7343",
   "metadata": {},
   "outputs": [
    {
     "name": "stdout",
     "output_type": "stream",
     "text": [
      "2 [2, 2, 2, 3]\n"
     ]
    }
   ],
   "source": [
    "nums1 = [3,2,2,3]\n",
    "val1 = 3\n",
    "# output1 should be 2, nums1 = [2, 2, _, _]\n",
    "x1, output1 = solution.removeElement(nums1, val1)\n",
    "print(x1, output1)"
   ]
  },
  {
   "cell_type": "code",
   "execution_count": 4,
   "id": "607555eb",
   "metadata": {},
   "outputs": [
    {
     "name": "stdout",
     "output_type": "stream",
     "text": [
      "5 [0, 1, 3, 0, 4, 0, 4, 2]\n"
     ]
    }
   ],
   "source": [
    "nums2 = [0,1,2,2,3,0,4,2]\n",
    "val2 = 2\n",
    "# output2 should be 5, nums1 = [0, 1, 4, 0, 3, _, _, _]\n",
    "x2, output2 = solution.removeElement(nums2, val2)\n",
    "print(x2, output2)"
   ]
  }
 ],
 "metadata": {
  "kernelspec": {
   "display_name": "Python 3 (ipykernel)",
   "language": "python",
   "name": "python3"
  },
  "language_info": {
   "codemirror_mode": {
    "name": "ipython",
    "version": 3
   },
   "file_extension": ".py",
   "mimetype": "text/x-python",
   "name": "python",
   "nbconvert_exporter": "python",
   "pygments_lexer": "ipython3",
   "version": "3.9.7"
  }
 },
 "nbformat": 4,
 "nbformat_minor": 5
}
