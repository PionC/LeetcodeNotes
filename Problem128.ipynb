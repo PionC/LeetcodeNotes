{
 "cells": [
  {
   "cell_type": "markdown",
   "id": "e19233e7",
   "metadata": {},
   "source": [
    "# [128. Longest Consecutive Sequence](https://leetcode.cn/problems/longest-consecutive-sequence/description/?envType=study-plan-v2&envId=top-100-liked)"
   ]
  },
  {
   "cell_type": "code",
   "execution_count": 35,
   "id": "8515014b",
   "metadata": {},
   "outputs": [],
   "source": [
    "class Solution:\n",
    "    def longestConsecutive(self, nums): # Use Hash Table\n",
    "        num_dict = {}\n",
    "        count = 0\n",
    "        max_len = 0\n",
    "        for num in nums:\n",
    "            num_dict.update({num: 1})\n",
    "        for num in nums:\n",
    "            if num-1 not in num_dict: # Filter out non-smallest numbers\n",
    "                count = 1\n",
    "                tmp1, tmp2 = num-1, num+1\n",
    "                print(num, tmp1, tmp2)\n",
    "                while tmp2 in num_dict:\n",
    "                    count += 1\n",
    "                    tmp2 += 1\n",
    "                max_len = max(max_len, count)\n",
    "        return max_len\n",
    "            \n",
    "        \n",
    "            "
   ]
  },
  {
   "cell_type": "code",
   "execution_count": 36,
   "id": "b655ca91",
   "metadata": {},
   "outputs": [],
   "source": [
    "solution = Solution()"
   ]
  },
  {
   "cell_type": "code",
   "execution_count": 37,
   "id": "6d121276",
   "metadata": {},
   "outputs": [
    {
     "name": "stdout",
     "output_type": "stream",
     "text": [
      "100 99 101\n",
      "200 199 201\n",
      "1 0 2\n",
      "4\n"
     ]
    }
   ],
   "source": [
    "nums = [100,4,200,1,3,2]\n",
    "# Output: 4\n",
    "output1 = solution.longestConsecutive(nums)\n",
    "print(output1)"
   ]
  },
  {
   "cell_type": "code",
   "execution_count": 38,
   "id": "ed6bc903",
   "metadata": {},
   "outputs": [
    {
     "name": "stdout",
     "output_type": "stream",
     "text": [
      "0 -1 1\n",
      "0 -1 1\n",
      "9\n"
     ]
    }
   ],
   "source": [
    "nums = [0,3,7,2,5,8,4,6,0,1]\n",
    "# Output: 9\n",
    "output2 = solution.longestConsecutive(nums)\n",
    "print(output2)"
   ]
  },
  {
   "cell_type": "code",
   "execution_count": 39,
   "id": "df603073",
   "metadata": {},
   "outputs": [
    {
     "name": "stdout",
     "output_type": "stream",
     "text": [
      "3 2 4\n",
      "-1 -2 0\n",
      "-1 -2 0\n",
      "7\n"
     ]
    }
   ],
   "source": [
    "nums = [9,1,4,7,3,-1,0,5,8,-1,6]\n",
    "output3 = solution.longestConsecutive(nums)\n",
    "print(output3)"
   ]
  },
  {
   "cell_type": "code",
   "execution_count": 7,
   "id": "031eceb8",
   "metadata": {},
   "outputs": [
    {
     "name": "stdout",
     "output_type": "stream",
     "text": [
      "Sorted:    [0, 1, 1, 2]\n",
      "[2] l 0 r 1 max_len 0\n",
      "[1] l 0 r 2 max_len 0\n",
      "[2] l 2 r 3 max_len 2\n",
      "[1] l 2 r 4 max_len 2\n",
      "2 4\n",
      "2\n"
     ]
    }
   ],
   "source": [
    "nums = [1,2,0,1]\n",
    "output4 = solution.longestConsecutive(nums)\n",
    "print(output4)"
   ]
  }
 ],
 "metadata": {
  "kernelspec": {
   "display_name": "Python 3 (ipykernel)",
   "language": "python",
   "name": "python3"
  },
  "language_info": {
   "codemirror_mode": {
    "name": "ipython",
    "version": 3
   },
   "file_extension": ".py",
   "mimetype": "text/x-python",
   "name": "python",
   "nbconvert_exporter": "python",
   "pygments_lexer": "ipython3",
   "version": "3.9.7"
  }
 },
 "nbformat": 4,
 "nbformat_minor": 5
}
