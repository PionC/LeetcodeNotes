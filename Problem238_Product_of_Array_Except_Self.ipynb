{
 "cells": [
  {
   "cell_type": "markdown",
   "id": "e19233e7",
   "metadata": {},
   "source": [
    "# [238. Product of Array Except Self](https://leetcode.cn/problems/product-of-array-except-self/description/?envType=study-plan-v2&envId=top-100-liked)"
   ]
  },
  {
   "cell_type": "code",
   "execution_count": 1,
   "id": "8515014b",
   "metadata": {},
   "outputs": [],
   "source": [
    "class Solution:\n",
    "    def function(self, nums):\n",
    "        # Prefix:    1,  1, 2, 6\n",
    "        # Suffix:    24, 12, 4, 1\n",
    "        # Current:   1, 2, 3, 4\n",
    "        pre = 1\n",
    "        suf = 1\n",
    "        pre_product = []\n",
    "        pre_product.append(pre)\n",
    "        suf_product = []\n",
    "        for i in range (1, len(nums)):\n",
    "            pre = pre * nums[i-1]\n",
    "            pre_product.append(pre)\n",
    "        for i in range (len(nums)-1, 0, -1):\n",
    "            suf = suf * nums[i]\n",
    "            suf_product.append(suf)\n",
    "        suf_product.reverse()\n",
    "        suf_product.append(1)\n",
    "        result = []\n",
    "        \n",
    "        for i in range (0, len(nums)):\n",
    "            result.append(pre_product[i]*suf_product[i])\n",
    "        return result"
   ]
  },
  {
   "cell_type": "code",
   "execution_count": 2,
   "id": "b655ca91",
   "metadata": {},
   "outputs": [],
   "source": [
    "solution = Solution()"
   ]
  },
  {
   "cell_type": "code",
   "execution_count": 3,
   "id": "6d121276",
   "metadata": {},
   "outputs": [
    {
     "name": "stdout",
     "output_type": "stream",
     "text": [
      "[24, 12, 8, 6]\n"
     ]
    }
   ],
   "source": [
    "nums1 = [1,2,3,4]\n",
    "# Output: [24,12,8,6]\n",
    "output1 = solution.function(nums1)\n",
    "print(output1)"
   ]
  },
  {
   "cell_type": "code",
   "execution_count": 4,
   "id": "ed6bc903",
   "metadata": {},
   "outputs": [
    {
     "name": "stdout",
     "output_type": "stream",
     "text": [
      "[0, 0, 9, 0, 0]\n"
     ]
    }
   ],
   "source": [
    "nums2 = [-1,1,0,-3,3]\n",
    "# Output: [0,0,9,0,0]\n",
    "output2 = solution.function(nums2)\n",
    "print(output2)"
   ]
  }
 ],
 "metadata": {
  "kernelspec": {
   "display_name": "Python 3 (ipykernel)",
   "language": "python",
   "name": "python3"
  },
  "language_info": {
   "codemirror_mode": {
    "name": "ipython",
    "version": 3
   },
   "file_extension": ".py",
   "mimetype": "text/x-python",
   "name": "python",
   "nbconvert_exporter": "python",
   "pygments_lexer": "ipython3",
   "version": "3.9.7"
  }
 },
 "nbformat": 4,
 "nbformat_minor": 5
}
