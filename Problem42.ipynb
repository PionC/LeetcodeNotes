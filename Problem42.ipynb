{
 "cells": [
  {
   "cell_type": "markdown",
   "id": "e19233e7",
   "metadata": {},
   "source": [
    "# [42. Trapping Rain Water](https://leetcode.cn/problems/trapping-rain-water/description/?envType=study-plan-v2&envId=top-100-liked)"
   ]
  },
  {
   "cell_type": "markdown",
   "id": "d51ee5b6",
   "metadata": {},
   "source": [
    "## Tricks\n",
    "The trick of solving this type problem is always using the short bar to calculate the result"
   ]
  },
  {
   "cell_type": "code",
   "execution_count": 12,
   "id": "8515014b",
   "metadata": {},
   "outputs": [],
   "source": [
    "class Solution:\n",
    "    def function(self, height): # Double Pointer Method\n",
    "        if len(height) < 3:\n",
    "            return 0\n",
    "        l, r = 0, len(height)-1\n",
    "        result = pre_max = suf_max = 0\n",
    "\n",
    "        while l < r: # l and r will meet at the heighest place\n",
    "            pre_max = max(pre_max, height[l])\n",
    "            suf_max = max(suf_max, height[r])\n",
    "            if pre_max < suf_max: # The accumulated water depends on the short height of the bar\n",
    "                result = result + (min(pre_max, suf_max) - height[l])\n",
    "                l += 1\n",
    "            else:\n",
    "                result = result + (min(pre_max, suf_max) - height[r])\n",
    "                r -= 1\n",
    "        \n",
    "        return result\n",
    "    \n",
    "    def function2(self, height):\n",
    "        pre_max, suf_max = [0]*len(height), [0]*len(height)\n",
    "        result = 0\n",
    "        \n",
    "        pre_max[0] = height[0]\n",
    "        for i in range(1, len(height)): # Find out the pre_maxs and suf_maxs for every bar\n",
    "            pre_max[i] = max(pre_max[i-1], height[i])\n",
    "        \n",
    "        suf_max[-1] = height[-1]\n",
    "        for i in range(len(height)-2, -1, -1):\n",
    "            suf_max[i] = max(suf_max[i+1], height[i])\n",
    "        \n",
    "        for i in range(0, len(height)): # The amount of water depends on the short side bar\n",
    "            result = result + (min(pre_max[i], suf_max[i]) - height[i])\n",
    "        \n",
    "        return result"
   ]
  },
  {
   "cell_type": "code",
   "execution_count": 13,
   "id": "b655ca91",
   "metadata": {},
   "outputs": [],
   "source": [
    "solution = Solution()"
   ]
  },
  {
   "cell_type": "code",
   "execution_count": 14,
   "id": "6d121276",
   "metadata": {},
   "outputs": [
    {
     "name": "stdout",
     "output_type": "stream",
     "text": [
      "6\n"
     ]
    }
   ],
   "source": [
    "height = [0,1,0,2,1,0,1,3,2,1,2,1]\n",
    "# Output: 6\n",
    "output1 = solution.function(height)\n",
    "print(output1)"
   ]
  },
  {
   "cell_type": "code",
   "execution_count": 15,
   "id": "ed6bc903",
   "metadata": {},
   "outputs": [
    {
     "name": "stdout",
     "output_type": "stream",
     "text": [
      "9\n"
     ]
    }
   ],
   "source": [
    "height = [4,2,0,3,2,5]\n",
    "# Output: 9\n",
    "output2 = solution.function(height)\n",
    "print(output2)"
   ]
  },
  {
   "cell_type": "code",
   "execution_count": 16,
   "id": "ef5e74ac",
   "metadata": {},
   "outputs": [
    {
     "name": "stdout",
     "output_type": "stream",
     "text": [
      "6\n"
     ]
    }
   ],
   "source": [
    "height = [0,1,0,2,1,0,1,3,2,1,2,1]\n",
    "# Output: 6\n",
    "output3 = solution.function2(height)\n",
    "print(output3)"
   ]
  },
  {
   "cell_type": "code",
   "execution_count": 17,
   "id": "d6849847",
   "metadata": {},
   "outputs": [
    {
     "name": "stdout",
     "output_type": "stream",
     "text": [
      "9\n"
     ]
    }
   ],
   "source": [
    "height = [4,2,0,3,2,5]\n",
    "# Output: 9\n",
    "output4 = solution.function2(height)\n",
    "print(output4)"
   ]
  },
  {
   "cell_type": "code",
   "execution_count": null,
   "id": "18e57b2a",
   "metadata": {},
   "outputs": [],
   "source": []
  }
 ],
 "metadata": {
  "kernelspec": {
   "display_name": "Python 3 (ipykernel)",
   "language": "python",
   "name": "python3"
  },
  "language_info": {
   "codemirror_mode": {
    "name": "ipython",
    "version": 3
   },
   "file_extension": ".py",
   "mimetype": "text/x-python",
   "name": "python",
   "nbconvert_exporter": "python",
   "pygments_lexer": "ipython3",
   "version": "3.9.7"
  }
 },
 "nbformat": 4,
 "nbformat_minor": 5
}
