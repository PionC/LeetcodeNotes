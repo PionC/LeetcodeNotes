{
 "cells": [
  {
   "cell_type": "markdown",
   "id": "e19233e7",
   "metadata": {},
   "source": [
    "# [41. First Missing Positive](https://leetcode.cn/problems/first-missing-positive/description/?envType=study-plan-v2&envId=top-100-liked)"
   ]
  },
  {
   "cell_type": "markdown",
   "id": "3f57796b",
   "metadata": {},
   "source": [
    "### [The exchange operation in Python](https://blog.csdn.net/Scofield971031/article/details/107217511)\n",
    "Explains the question why `nums[nums[i] - 1], nums[i] = nums[i], nums[nums[i] - 1]` is correct   \n",
    "and `nums[i], nums[nums[i] - 1] = nums[nums[i] - 1], nums[i]` is discorrect?"
   ]
  },
  {
   "cell_type": "code",
   "execution_count": 1,
   "id": "8515014b",
   "metadata": {},
   "outputs": [],
   "source": [
    "class Solution:\n",
    "    def function(self, nums): # O(n^2) Overtime!!!\n",
    "        nums.sort()\n",
    "        print(nums)\n",
    "        l, r, i = 0, 0, 0\n",
    "        tmp = 1\n",
    "        while i < len(nums):\n",
    "            print(tmp, nums[: i], nums[i:])\n",
    "            if tmp not in nums[:i] and tmp not in nums[i:] and tmp > 0:\n",
    "                return tmp\n",
    "            tmp += 1\n",
    "        return tmp\n",
    "    \n",
    "    def function2(self, nums): # O(n) for time and O(1) for space\n",
    "        # index is [0, len(nums)]\n",
    "        # num is [1, len(nums)+1] \n",
    "        # print(nums)\n",
    "        n = len(nums)\n",
    "        for i in range(n):\n",
    "            # print(\"=========\")\n",
    "            while 1 <= nums[i] <= n and nums[nums[i] - 1] != nums[i]:\n",
    "                # Q: What does nums[nums[i] - 1] refer to here?\n",
    "                # A: Keep on check the front part of the list \n",
    "                nums[nums[i] - 1], nums[i] = nums[i], nums[nums[i] - 1]\n",
    "                # nums[i], nums[nums[i] - 1] = nums[nums[i] - 1], nums[i]\n",
    "                # this is incorrect\n",
    "                # because nums[nums[i]-1] refers num[i], and num[i] is changed firstly\n",
    "                # see details from https://blog.csdn.net/Scofield971031/article/details/107217511\n",
    "                # print(nums)\n",
    "        for i in range(n):\n",
    "            if nums[i] != i + 1:\n",
    "                return i + 1\n",
    "        return n + 1"
   ]
  },
  {
   "cell_type": "code",
   "execution_count": 2,
   "id": "b655ca91",
   "metadata": {},
   "outputs": [],
   "source": [
    "solution = Solution()"
   ]
  },
  {
   "cell_type": "code",
   "execution_count": 3,
   "id": "6d121276",
   "metadata": {},
   "outputs": [
    {
     "name": "stdout",
     "output_type": "stream",
     "text": [
      "3\n"
     ]
    }
   ],
   "source": [
    "nums1 = [1,2,0]\n",
    "# Output: 3\n",
    "output1 = solution.function2(nums1)\n",
    "print(output1)"
   ]
  },
  {
   "cell_type": "code",
   "execution_count": 4,
   "id": "ed6bc903",
   "metadata": {},
   "outputs": [
    {
     "name": "stdout",
     "output_type": "stream",
     "text": [
      "2\n"
     ]
    }
   ],
   "source": [
    "nums2 = [3,4,-1,1]\n",
    "# Output: 2\n",
    "output2 = solution.function2(nums2)\n",
    "print(output2)"
   ]
  },
  {
   "cell_type": "code",
   "execution_count": 5,
   "id": "ef5e74ac",
   "metadata": {},
   "outputs": [
    {
     "name": "stdout",
     "output_type": "stream",
     "text": [
      "1\n"
     ]
    }
   ],
   "source": [
    "nums3 = [7,8,9,11,12]\n",
    "# Output: 1\n",
    "output3 = solution.function2(nums3)\n",
    "print(output3)"
   ]
  },
  {
   "cell_type": "code",
   "execution_count": 6,
   "id": "51035dc6",
   "metadata": {},
   "outputs": [
    {
     "name": "stdout",
     "output_type": "stream",
     "text": [
      "2\n"
     ]
    }
   ],
   "source": [
    "nums4 = [1]\n",
    "# Output: 2\n",
    "output4 = solution.function2(nums4)\n",
    "print(output4)"
   ]
  },
  {
   "cell_type": "markdown",
   "id": "b0ea9d59",
   "metadata": {},
   "source": [
    "[3,4,-1,1]\n",
    "3: [-1, 4, 3, 1]\n",
    "4: [-1, 1, 3, 4]\n"
   ]
  }
 ],
 "metadata": {
  "kernelspec": {
   "display_name": "Python 3 (ipykernel)",
   "language": "python",
   "name": "python3"
  },
  "language_info": {
   "codemirror_mode": {
    "name": "ipython",
    "version": 3
   },
   "file_extension": ".py",
   "mimetype": "text/x-python",
   "name": "python",
   "nbconvert_exporter": "python",
   "pygments_lexer": "ipython3",
   "version": "3.9.7"
  }
 },
 "nbformat": 4,
 "nbformat_minor": 5
}
