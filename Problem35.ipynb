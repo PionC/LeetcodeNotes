{
 "cells": [
  {
   "cell_type": "code",
   "execution_count": 1,
   "id": "2328f973",
   "metadata": {},
   "outputs": [],
   "source": [
    "class Solution:\n",
    "    def searchInsert(self, nums, target):\n",
    "        l, r = 0, len(nums)-1\n",
    "        \n",
    "        if target > nums[r]:\n",
    "            return len(nums)\n",
    "        if target <= nums[l]:\n",
    "            return l\n",
    "\n",
    "        while l <= r:\n",
    "            mid = (l+r) // 2\n",
    "            if nums[mid] < target: # Target is in right side\n",
    "                l = mid + 1\n",
    "            elif nums[mid] > target: # Target is in left side\n",
    "                r = mid - 1\n",
    "            else: # nums[mid] == target\n",
    "                return mid\n",
    "        \n",
    "        return r+1"
   ]
  },
  {
   "cell_type": "code",
   "execution_count": 2,
   "id": "58389807",
   "metadata": {},
   "outputs": [
    {
     "name": "stdout",
     "output_type": "stream",
     "text": [
      "1\n"
     ]
    }
   ],
   "source": [
    "nums = [1,3,5,6]\n",
    "target = 2\n",
    "solution = Solution()\n",
    "output = solution.searchInsert(nums, target)\n",
    "print(output)"
   ]
  }
 ],
 "metadata": {
  "kernelspec": {
   "display_name": "Python 3 (ipykernel)",
   "language": "python",
   "name": "python3"
  },
  "language_info": {
   "codemirror_mode": {
    "name": "ipython",
    "version": 3
   },
   "file_extension": ".py",
   "mimetype": "text/x-python",
   "name": "python",
   "nbconvert_exporter": "python",
   "pygments_lexer": "ipython3",
   "version": "3.9.7"
  }
 },
 "nbformat": 4,
 "nbformat_minor": 5
}
