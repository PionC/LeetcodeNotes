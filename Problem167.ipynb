{
 "cells": [
  {
   "cell_type": "markdown",
   "id": "e19233e7",
   "metadata": {},
   "source": [
    "# [167. Two Sum II - Input Array Is Sorted](https://leetcode.cn/problems/two-sum-ii-input-array-is-sorted/description/)"
   ]
  },
  {
   "cell_type": "code",
   "execution_count": null,
   "id": "8515014b",
   "metadata": {},
   "outputs": [],
   "source": [
    "class Solution:\n",
    "    def function(self, s, t):\n",
    "        pass"
   ]
  },
  {
   "cell_type": "code",
   "execution_count": null,
   "id": "b655ca91",
   "metadata": {},
   "outputs": [],
   "source": [
    "solution = Solution()"
   ]
  },
  {
   "cell_type": "code",
   "execution_count": null,
   "id": "6d121276",
   "metadata": {},
   "outputs": [],
   "source": [
    "s1 = \"ab#c\"\n",
    "t1 = \"ad#c\"\n",
    "# Output: true\n",
    "output1 = solution.function(s1, t1)\n",
    "print(output1)"
   ]
  },
  {
   "cell_type": "code",
   "execution_count": null,
   "id": "ed6bc903",
   "metadata": {},
   "outputs": [],
   "source": [
    "s2 = \"ab##\"\n",
    "t2 = \"c#d#\"\n",
    "# Output: true\n",
    "output2 = solution.function(s2, t2)\n",
    "print(output2)"
   ]
  },
  {
   "cell_type": "code",
   "execution_count": null,
   "id": "ef5e74ac",
   "metadata": {},
   "outputs": [],
   "source": [
    "s3 = \"a#c\"\n",
    "t3 = \"b\"\n",
    "# Output: false\n",
    "output3 = solution.function(s3, t3)\n",
    "print(output3)"
   ]
  },
  {
   "cell_type": "code",
   "execution_count": null,
   "id": "d402c6bd",
   "metadata": {},
   "outputs": [],
   "source": [
    "age_range = [\"0-9\", \"10-19\", \"20-29\", \"30-39\", \"40-49\", \"50-59\", \"60-69\"]\n",
    "\n",
    "age_list = [0]*7\n",
    "for i in age:\n",
    "    j = int(i)\n",
    "    if 0 <= int(j) and int(j) <= 9:\n",
    "        age_list[0] += 1\n",
    "    elif 10 <= int(j) and int(j) <= 19:\n",
    "        age_list[1] += 1\n",
    "    elif 20 <= int(j) and int(j) <= 29:\n",
    "        age_list[2] += 1\n",
    "    elif 30 <= int(j) and int(j) <= 39:\n",
    "        age_list[3] += 1\n",
    "    elif 40 <= int(j) and int(j) <= 49:\n",
    "        age_list[4] += 1\n",
    "    elif 50 <= int(j) and int(j) <= 59:\n",
    "        age_list[5] += 1\n",
    "    elif 60 <= int(j) and int(j) <= 69:\n",
    "        age_list[6] += 1\n",
    "\n",
    "plt.pie(age_list, labels= age_range)"
   ]
  },
  {
   "cell_type": "code",
   "execution_count": null,
   "id": "72368bef",
   "metadata": {},
   "outputs": [],
   "source": []
  }
 ],
 "metadata": {
  "kernelspec": {
   "display_name": "Python 3 (ipykernel)",
   "language": "python",
   "name": "python3"
  },
  "language_info": {
   "codemirror_mode": {
    "name": "ipython",
    "version": 3
   },
   "file_extension": ".py",
   "mimetype": "text/x-python",
   "name": "python",
   "nbconvert_exporter": "python",
   "pygments_lexer": "ipython3",
   "version": "3.9.7"
  }
 },
 "nbformat": 4,
 "nbformat_minor": 5
}
