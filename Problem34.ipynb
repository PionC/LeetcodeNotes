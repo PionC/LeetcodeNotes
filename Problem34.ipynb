{
 "cells": [
  {
   "cell_type": "markdown",
   "id": "cf466660",
   "metadata": {},
   "source": [
    "# [34. Find First and Last Position of Element in Sorted Array](https://leetcode.cn/problems/find-first-and-last-position-of-element-in-sorted-array/)"
   ]
  },
  {
   "cell_type": "code",
   "execution_count": 1,
   "id": "12300ca3",
   "metadata": {},
   "outputs": [],
   "source": [
    "class Solution:\n",
    "    def searchRange(self, nums, target):\n",
    "        size = len(nums)\n",
    "        l, r = 0, size-1\n",
    "        output = [-1, -1]\n",
    "        \n",
    "        if size == 0:\n",
    "            return output\n",
    "        \n",
    "        while l <= r:\n",
    "            mid = (l+r) // 2\n",
    "            l_range, r_range = mid, mid\n",
    "            if nums[mid] < target: # target is at right side\n",
    "                l = mid + 1\n",
    "            elif nums[mid] > target: # target is at left side\n",
    "                r = mid - 1\n",
    "            else: # nums[mid] == target\n",
    "                # detect the left boundary\n",
    "                while l_range >= 0 and nums[l_range] == target:\n",
    "                    output[0] = l_range\n",
    "                    l_range -= 1\n",
    "                # detect the right boundary\n",
    "                while r_range <= size-1 and nums[r_range] == target:\n",
    "                    output[1] = r_range\n",
    "                    r_range += 1\n",
    "                return output\n",
    "        \n",
    "        return output"
   ]
  },
  {
   "cell_type": "code",
   "execution_count": 2,
   "id": "5fcbc0fa",
   "metadata": {},
   "outputs": [],
   "source": [
    "solution = Solution()"
   ]
  },
  {
   "cell_type": "code",
   "execution_count": 3,
   "id": "63e28d56",
   "metadata": {},
   "outputs": [
    {
     "name": "stdout",
     "output_type": "stream",
     "text": [
      "[3, 4]\n"
     ]
    }
   ],
   "source": [
    "nums1 = [5,7,7,8,8,10]\n",
    "target1 = 8\n",
    "# output1 should be [3,4]\n",
    "output1 = solution.searchRange(nums1, target1)\n",
    "print(output1)"
   ]
  },
  {
   "cell_type": "code",
   "execution_count": 4,
   "id": "1d8f4351",
   "metadata": {},
   "outputs": [
    {
     "name": "stdout",
     "output_type": "stream",
     "text": [
      "[-1, -1]\n"
     ]
    }
   ],
   "source": [
    "nums2 = [5,7,7,8,8,10]\n",
    "target2 = 6\n",
    "# output1 should be [-1,-1]\n",
    "output2 = solution.searchRange(nums2, target2)\n",
    "print(output2)"
   ]
  },
  {
   "cell_type": "code",
   "execution_count": 5,
   "id": "7f9cf6f4",
   "metadata": {},
   "outputs": [
    {
     "name": "stdout",
     "output_type": "stream",
     "text": [
      "[-1, -1]\n"
     ]
    }
   ],
   "source": [
    "nums3 = []\n",
    "target3 = 0\n",
    "# output1 should be [-1,-1]\n",
    "output3 = solution.searchRange(nums3, target3)\n",
    "print(output3)"
   ]
  },
  {
   "cell_type": "code",
   "execution_count": 6,
   "id": "2febdd58",
   "metadata": {},
   "outputs": [
    {
     "name": "stdout",
     "output_type": "stream",
     "text": [
      "[0, 0]\n"
     ]
    }
   ],
   "source": [
    "nums4 = [1]\n",
    "target4 = 1\n",
    "# output1 should be [0,0]\n",
    "output4 = solution.searchRange(nums4, target4)\n",
    "print(output4)"
   ]
  }
 ],
 "metadata": {
  "kernelspec": {
   "display_name": "Python 3 (ipykernel)",
   "language": "python",
   "name": "python3"
  },
  "language_info": {
   "codemirror_mode": {
    "name": "ipython",
    "version": 3
   },
   "file_extension": ".py",
   "mimetype": "text/x-python",
   "name": "python",
   "nbconvert_exporter": "python",
   "pygments_lexer": "ipython3",
   "version": "3.9.7"
  }
 },
 "nbformat": 4,
 "nbformat_minor": 5
}
